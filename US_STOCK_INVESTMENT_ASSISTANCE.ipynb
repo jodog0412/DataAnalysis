{
  "cells": [
    {
      "cell_type": "markdown",
      "metadata": {
        "id": "view-in-github",
        "colab_type": "text"
      },
      "source": [
        "<a href=\"https://colab.research.google.com/github/jodog0412/US-STOCKS-INVESTMENT-ASSISTANCE/blob/master/US_STOCK_INVESTMENT_ASSISTANCE.ipynb\" target=\"_parent\"><img src=\"https://colab.research.google.com/assets/colab-badge.svg\" alt=\"Open In Colab\"/></a>"
      ]
    },
    {
      "cell_type": "markdown",
      "id": "5d71badf",
      "metadata": {
        "id": "5d71badf"
      },
      "source": [
        "# US Stock Analysis\n",
        "- 포트폴리오 시각화\n",
        "- 포트폴리오 수익률 분석\n",
        "- 종목 검색\n",
        "- 재무제표 비교\n",
        "- 재무제표 시각화"
      ]
    },
    {
      "cell_type": "code",
      "source": [
        "from google.colab import drive\n",
        "drive.mount('/content/drive')\n",
        "%cd /content/drive/MyDrive/Colab/US_STOCK_INVESTMENT_ASSISTANCE\n",
        "!ls"
      ],
      "metadata": {
        "id": "_u9hQ9hZMEpQ"
      },
      "id": "_u9hQ9hZMEpQ",
      "execution_count": null,
      "outputs": []
    },
    {
      "cell_type": "markdown",
      "id": "e6c4ba99",
      "metadata": {
        "id": "e6c4ba99"
      },
      "source": [
        "## IMPORT FUNCTION"
      ]
    },
    {
      "cell_type": "code",
      "execution_count": null,
      "id": "4337ffbd",
      "metadata": {
        "id": "4337ffbd"
      },
      "outputs": [],
      "source": [
        "!pip install yfinance\n",
        "!pip install finance-datareader\n",
        "import numpy as np\n",
        "import pandas as pd\n",
        "import yfinance as yf\n",
        "import FinanceDataReader as fdr\n",
        "import matplotlib.pyplot as plt\n",
        "import seaborn as sns\n",
        "\n",
        "from google.colab import auth\n",
        "auth.authenticate_user()\n",
        "import gspread\n",
        "from google.auth import default\n",
        "creds, _ = default()\n",
        "gc = gspread.authorize(creds)"
      ]
    },
    {
      "cell_type": "markdown",
      "id": "462d22f2",
      "metadata": {
        "id": "462d22f2"
      },
      "source": [
        "## DATAFRAME"
      ]
    },
    {
      "cell_type": "code",
      "execution_count": null,
      "id": "523227d5",
      "metadata": {
        "id": "523227d5"
      },
      "outputs": [],
      "source": [
        "# DATA\n",
        "sheet=gc.open('US_STOCK').sheet1\n",
        "data_raw=pd.DataFrame(sheet.get_all_values())\n",
        "pf=pd.DataFrame(data=data_raw.values,\n",
        "                columns=[\"TICKER\",\"TAG\",\"AVER_PRICE\",\"STOCK_NUM\",\"STOCK_QUANTITY\"])\n",
        "pf=pf.sort_values(by=\"TICKER\")\n",
        "ticker=pf.loc[:,\"TICKER\"].values\n",
        "date='2022-09-11'"
      ]
    },
    {
      "cell_type": "markdown",
      "id": "7ca979d5",
      "metadata": {
        "id": "7ca979d5"
      },
      "source": [
        "## DATA VISUALIZATION"
      ]
    },
    {
      "cell_type": "code",
      "execution_count": 61,
      "id": "f0f73229",
      "metadata": {
        "colab": {
          "base_uri": "https://localhost:8080/",
          "height": 248
        },
        "id": "f0f73229",
        "outputId": "e5ab06bb-635e-4317-bacc-bfffe5ace223"
      },
      "outputs": [
        {
          "output_type": "display_data",
          "data": {
            "text/plain": [
              "<Figure size 432x288 with 1 Axes>"
            ],
            "image/png": "[encoded data removed]"
          },
          "metadata": {}
        }
      ],
      "source": [
        "def portfolio_plt(pf):\n",
        "    pf=pf.sort_values(\"STOCK_QUANTITY\",ascending=False)\n",
        "    pf_plot=plt.pie(pf[\"STOCK_QUANTITY\"],labels=pf.loc[:,\"TICKER\"],\n",
        "                    autopct='%.1f%%',startangle=90)    \n",
        "    return(plt.show(pf_plot))\n",
        "portfolio_plt(pf) "
      ]
    },
    {
      "cell_type": "code",
      "execution_count": null,
      "id": "c71d8db8",
      "metadata": {
        "scrolled": true,
        "id": "c71d8db8"
      },
      "outputs": [],
      "source": [
        "def holds_dataframing(company,date): #수익률 데이터화\n",
        "    data_yf=yf.download(list(ticker),start='2022-01-01',end=date,progress=False)\n",
        "    recent_price=data_yf['Adj Close'].iloc[-1]\n",
        "    profit=(recent_price/pf['AVER_PRICE'].values.astype(float)-1)*100\n",
        "    prf=profit.sort_values(ascending=False)\n",
        "    return(prf)\n",
        "\n",
        "holds_dataframing(ticker,date) #회사 리스트,날짜"
      ]
    },
    {
      "cell_type": "markdown",
      "id": "1e8b9c29",
      "metadata": {
        "id": "1e8b9c29"
      },
      "source": [
        "## TICKER SEARCH"
      ]
    },
    {
      "cell_type": "code",
      "execution_count": null,
      "id": "387f7e62",
      "metadata": {
        "id": "387f7e62"
      },
      "outputs": [],
      "source": [
        "# ['가정용품', '개인, 가정 용품 및 서비스', '건설 및 엔지니어링', \n",
        "# '건설장비 및 대형차, 기차, 배', '건축 자재', '교육서비스', '기타 금융업',\n",
        "# '다양한 금융서비스', '다양한 산업재 도매업', '다양한 소매업',\n",
        "# '레저 상품', '메탈&마이닝', '미디어 및 출판', '반도체 및 반도체 장비', \n",
        "# '보험', '복합 기업', '복합 유틸리티', '부동산 운영 관리',\n",
        "# '비즈니스교육', '사무기기', '생명과학 및 메디컬 리서치', '석유',\n",
        "# '섬유 및 의류', '소프트웨어 및 IT서비스', '수도 유틸리티',\n",
        "# '식품 및 담배', '식품 및 약품소매', '오일 및 가스', \n",
        "# '오일 및 가스 장비 및 서비스', '용기 및 포장', '우라늄', '우주항공 및 국방',\n",
        "# '운송 인프라', '운송업', '은행', '음료', '자동차 및 자동차 부품', \n",
        "# '재생에너지', '전기 유틸리티', '전문 및 상업 서비스', '전문품 상점',\n",
        "# '전자 장비 및 부품', '제약', '종이 및 임산물', '주택 및 상업용 리츠', \n",
        "# '주택건설', '천연가스 유틸리티', '커뮤니케이션 및 네트워킹',\n",
        "# '컴퓨터, 전화 및 가전제품', '통신 서비스', '통합 하드웨어 및 소프트웨어', \n",
        "# '투자은행 및 서비스', '핀테크', '학교',\n",
        "# '헬스케어 업체 및 서비스', '헬스케어 장비 및 용품', '호텔 및 엔터테인먼트', '화물 및 물류 서비스', '화학']\n",
        "\n",
        "date_start='2022-08-01'\n",
        "def ticker_search(index,sector):\n",
        "    global tsf\n",
        "    data_fdr = fdr.StockListing(index)\n",
        "    data_fdr = dict(list(data_fdr.groupby('Industry')))\n",
        "    tickers=list(data_fdr[sector]['Symbol'].values)\n",
        "    data_by_sector=yf.download(tickers,start=date_start,end=date,progress=False)\n",
        "    data_by_sector=data_by_sector['Adj Close'].iloc[-1]-data_by_sector['Adj Close'].iloc[0]\n",
        "    tsf=pd.Series(data_by_sector).sort_values(ascending=False)\n",
        "    # tf.to_excel(excel_writer=\"./data/%s_PROFIT_%s.xlsx\"%(index,sector))\n",
        "    return(tsf)\n",
        "ticker_search('NYSE','호텔 및 엔터테인먼트')"
      ]
    },
    {
      "cell_type": "code",
      "source": [
        "search_top=tsf[:10]\n",
        "search_top"
      ],
      "metadata": {
        "id": "Z1mVTBAsQ3za"
      },
      "id": "Z1mVTBAsQ3za",
      "execution_count": null,
      "outputs": []
    },
    {
      "cell_type": "markdown",
      "id": "f9f83418",
      "metadata": {
        "id": "f9f83418"
      },
      "source": [
        "## FINANCIALS COMPARISON"
      ]
    },
    {
      "cell_type": "code",
      "execution_count": null,
      "id": "42f43818",
      "metadata": {
        "id": "42f43818"
      },
      "outputs": [],
      "source": [
        "holds=['NEE','STEM','GOOG','EQNR','UNH','CLFD','LPLA']\n",
        "view=['OXY','EQNR']\n",
        "\n",
        "finan=[]\n",
        "def financial_shape(ticker):\n",
        "    ticker_yf=yf.Ticker(ticker)\n",
        "    info=ticker_yf.info\n",
        "    if \"trailingPE\" in info:\n",
        "        finan.append([info[\"trailingPE\"], info[\"forwardPE\"], info[\"priceToBook\"],\n",
        "                      info[\"pegRatio\"], info[\"returnOnEquity\"],info[\"shortPercentOfFloat\"],\n",
        "                      info[\"quickRatio\"]])\n",
        "    else:\n",
        "        finan.append([\"NaN\", info[\"forwardPE\"], info[\"priceToBook\"],\n",
        "                      info[\"pegRatio\"], info[\"returnOnEquity\"], info[\"shortPercentOfFloat\"],\n",
        "                      info[\"quickRatio\"]])\n",
        "\n",
        "def financial_comparison(tickerlist):\n",
        "    for i in tickerlist: \n",
        "        financial_shape(i)\n",
        "    df=pd.DataFrame(data=finan,\n",
        "                    index=tickerlist,\n",
        "                    columns=['PER', 'FPER', 'PBR',\n",
        "                             'PEGR', 'ROE', 'short%', 'qRatio'])\n",
        "    df=df.sort_values('FPER',ascending=False)\n",
        "    return df\n",
        "\n",
        "financial_comparison(view)"
      ]
    },
    {
      "cell_type": "markdown",
      "id": "0e70f34f",
      "metadata": {
        "id": "0e70f34f"
      },
      "source": [
        "## FINANCIALS VISUALIZATION"
      ]
    },
    {
      "cell_type": "code",
      "execution_count": null,
      "id": "ccdca3af",
      "metadata": {
        "id": "ccdca3af"
      },
      "outputs": [],
      "source": [
        "def plt_earning(tickerlist):\n",
        "    fig, axs = plt.subplots(len(tickerlist))\n",
        "    for i in range(0,len(tickerlist)):\n",
        "        #get datas for balance sheet\n",
        "        ticker_yf=yf.Ticker(tickerlist[i])\n",
        "        earning=ticker_yf.earnings\n",
        "        #plotting\n",
        "        sns.lineplot(data=earning,ax=axs[i],legend=False)\n",
        "        if i==0:\n",
        "            axs[i].legend([\"Revenue\",\"Earnings\"],\n",
        "                          loc=2,\n",
        "                          prop={'size': 6})\n",
        "        axs[i].set_title(tickerlist[i])\n",
        "    plt.show()\n",
        "\n",
        "def plt_balance(tickerlist):\n",
        "    fig, axs = plt.subplots(len(tickerlist))\n",
        "    for i in range(0,len(tickerlist)):\n",
        "        #get datas for balance sheet\n",
        "        ticker_yf=yf.Ticker(tickerlist[i])\n",
        "        balance=ticker_yf.balance_sheet.loc[[\"Total Assets\",\"Total Liab\",\"Total Stockholder Equity\",\"Cash\"]]\n",
        "        balance=balance.transpose().sort_index()\n",
        "        #plotting\n",
        "        sns.lineplot(data=balance,ax=axs[i],legend=False)\n",
        "        if i==0:\n",
        "            axs[i].legend([\"Total Assets\",\"Total Liab\",\"Total Stockholder Equity\",\"Cash\"],\n",
        "                          loc=2,\n",
        "                          prop={'size': 6})\n",
        "        axs[i].set_title(tickerlist[i])\n",
        "    plt.show()\n",
        "\n",
        "def plt_cashflow(tickerlist):\n",
        "    fig, axs = plt.subplots(len(tickerlist))\n",
        "    for i in range(0,len(tickerlist)):\n",
        "        #get datas for balance sheet\n",
        "        ticker_yf=yf.Ticker(tickerlist[i])\n",
        "        cashflow=ticker_yf.cashflow.loc[[\"Total Cash From Operating Activities\",\n",
        "                                         \"Total Cashflows From Investing Activities\",\n",
        "                                         \"Total Cash From Financing Activities\"]]\n",
        "        cashflow=cashflow.transpose().sort_index()\n",
        "        sns.lineplot(data=cashflow,ax=axs[i],legend=False)\n",
        "        if i==0:\n",
        "            axs[i].legend([\"Total Cash From Operating Activities\",\n",
        "                           \"Total Cash From Investing Activities\",\n",
        "                           \"Total Cash From Financing Activities\"],\n",
        "                          loc=2,\n",
        "                          prop={'size': 6})\n",
        "        axs[i].set_title(tickerlist[i])\n",
        "    plt.show()\n",
        "\n",
        "plt_earning(view)\n",
        "plt_balance(view)\n",
        "plt_cashflow(view)"
      ]
    },
    {
      "cell_type": "code",
      "execution_count": null,
      "id": "677f1629",
      "metadata": {
        "id": "677f1629"
      },
      "outputs": [],
      "source": []
    }
  ],
  "metadata": {
    "kernelspec": {
      "display_name": "Python 3 (ipykernel)",
      "language": "python",
      "name": "python3"
    },
    "language_info": {
      "codemirror_mode": {
        "name": "ipython",
        "version": 3
      },
      "file_extension": ".py",
      "mimetype": "text/x-python",
      "name": "python",
      "nbconvert_exporter": "python",
      "pygments_lexer": "ipython3",
      "version": "3.9.7"
    },
    "colab": {
      "provenance": [],
      "collapsed_sections": [],
      "include_colab_link": true
    },
    "gpuClass": "standard"
  },
  "nbformat": 4,
  "nbformat_minor": 5
}