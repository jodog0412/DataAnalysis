{
  "cells": [
    {
      "cell_type": "markdown",
      "metadata": {
        "id": "view-in-github",
        "colab_type": "text"
      },
      "source": [
        "<a href=\"https://colab.research.google.com/github/jodog0412/US-STOCKS-INVESTMENT-ASSISTANCE/blob/master/US_STOCK_INVESTMENT_ASSISTANCE.ipynb\" target=\"_parent\"><img src=\"https://colab.research.google.com/assets/colab-badge.svg\" alt=\"Open In Colab\"/></a>"
      ]
    },
    {
      "cell_type": "markdown",
      "metadata": {
        "id": "e6c4ba99"
      },
      "source": [
        "# 1. Environment&Import"
      ],
      "id": "e6c4ba99"
    },
    {
      "cell_type": "code",
      "source": [
        "from google.colab import drive\n",
        "drive.mount('/content/drive')\n",
        "!cd /content/drive/MyDrive/Colab Notebooks/US-STOCKS-INVESTMENT-ASSISTANCE"
      ],
      "metadata": {
        "id": "HcYzNOwGxtxz"
      },
      "id": "HcYzNOwGxtxz",
      "execution_count": null,
      "outputs": []
    },
    {
      "cell_type": "code",
      "execution_count": null,
      "metadata": {
        "id": "4337ffbd"
      },
      "outputs": [],
      "source": [
        "!pip install yfinance --upgrade --no-cache-dir\n",
        "!pip install finance-datareader --upgrade"
      ],
      "id": "4337ffbd"
    },
    {
      "cell_type": "code",
      "source": [
        "import numpy as np\n",
        "import pandas as pd\n",
        "import yfinance as yf\n",
        "yf.pdr_override()\n",
        "import FinanceDataReader as fdr\n",
        "import matplotlib.pyplot as plt\n",
        "import seaborn as sns\n",
        "from tqdm import tqdm"
      ],
      "metadata": {
        "id": "1_ayacXtFhEf"
      },
      "id": "1_ayacXtFhEf",
      "execution_count": null,
      "outputs": []
    },
    {
      "cell_type": "code",
      "source": [
        "startdate='2019-01-01'\n",
        "enddate='2023-01-23'"
      ],
      "metadata": {
        "id": "zX8Kpdn2g97H"
      },
      "id": "zX8Kpdn2g97H",
      "execution_count": null,
      "outputs": []
    },
    {
      "cell_type": "markdown",
      "metadata": {
        "id": "462d22f2"
      },
      "source": [
        "#2. Portfolio"
      ],
      "id": "462d22f2"
    },
    {
      "cell_type": "markdown",
      "source": [
        "## 1) Load spreadsheet"
      ],
      "metadata": {
        "id": "Pz5FK6ajFiyC"
      },
      "id": "Pz5FK6ajFiyC"
    },
    {
      "cell_type": "code",
      "source": [
        "from google.colab import auth\n",
        "auth.authenticate_user()\n",
        "from google.auth import default\n",
        "import gspread\n",
        "creds, _ = default()\n",
        "gc = gspread.authorize(creds)"
      ],
      "metadata": {
        "id": "rjbpkqbw26z2"
      },
      "id": "rjbpkqbw26z2",
      "execution_count": null,
      "outputs": []
    },
    {
      "cell_type": "code",
      "source": [
        "sheet=gc.open('US_STOCK').sheet1"
      ],
      "metadata": {
        "id": "Y_2roIhR7g0n"
      },
      "id": "Y_2roIhR7g0n",
      "execution_count": null,
      "outputs": []
    },
    {
      "cell_type": "markdown",
      "source": [
        "## 2) Analyze portfolio"
      ],
      "metadata": {
        "id": "haq1SZC3Fpx_"
      },
      "id": "haq1SZC3Fpx_"
    },
    {
      "cell_type": "code",
      "source": [
        "class portfolio:\n",
        "    def __init__(self,sheet):\n",
        "        data=pd.DataFrame(sheet.get_all_values())\n",
        "        pf=pd.DataFrame(data=data.values,\n",
        "                        columns=[\"TICKER\",\"TAG\",\"AVER_PRICE\",\"STOCK_NUM\",\"STOCK_QUANTITY\"]).sort_values(by=\"TICKER\")\n",
        "        self.pf=pf.sort_values(\"STOCK_QUANTITY\",ascending=False)\n",
        "        \n",
        "    def plot(self):\n",
        "        data=self.pf\n",
        "        pf_plt=plt.pie(data[\"STOCK_QUANTITY\"],labels=data.loc[:,\"TICKER\"],\n",
        "                       autopct='%.1f%%',startangle=90)\n",
        "        return(plt.show(pf_plt))\n",
        "    \n",
        "    def calcProfit(self,date):\n",
        "        ticker=self.pf.loc[:,\"TICKER\"].values\n",
        "        data=yf.download(list(ticker),start=startdate,end=enddate,progress=False)\n",
        "        last_price=data['Adj Close'].iloc[-1]\n",
        "        profit=(last_price/(self.pf)['AVER_PRICE'].values.astype(float)-1)*100\n",
        "        profit=profit.sort_values(ascending=False)\n",
        "        return(profit)"
      ],
      "metadata": {
        "id": "SdMwvb4ZIeHm"
      },
      "id": "SdMwvb4ZIeHm",
      "execution_count": null,
      "outputs": []
    },
    {
      "cell_type": "code",
      "source": [
        "sheetData=portfolio(sheet)\n",
        "sheetData.plot()"
      ],
      "metadata": {
        "id": "OZm8ViIVQVuM",
        "colab": {
          "base_uri": "https://localhost:8080/",
          "height": 190
        },
        "outputId": "5eed21f6-612f-4f6c-9219-d769ff8fd039"
      },
      "id": "OZm8ViIVQVuM",
      "execution_count": null,
      "outputs": [
        {
          "output_type": "error",
          "ename": "NameError",
          "evalue": "ignored",
          "traceback": [
            "\u001b[0;31m---------------------------------------------------------------------------\u001b[0m",
            "\u001b[0;31mNameError\u001b[0m                                 Traceback (most recent call last)",
            "\u001b[0;32m<ipython-input-82-3ec3e89bd39b>\u001b[0m in \u001b[0;36m<module>\u001b[0;34m\u001b[0m\n\u001b[0;32m----> 1\u001b[0;31m \u001b[0msheetData\u001b[0m\u001b[0;34m=\u001b[0m\u001b[0mportfolio\u001b[0m\u001b[0;34m(\u001b[0m\u001b[0msheet\u001b[0m\u001b[0;34m)\u001b[0m\u001b[0;34m\u001b[0m\u001b[0;34m\u001b[0m\u001b[0m\n\u001b[0m\u001b[1;32m      2\u001b[0m \u001b[0msheetData\u001b[0m\u001b[0;34m.\u001b[0m\u001b[0mplot\u001b[0m\u001b[0;34m(\u001b[0m\u001b[0;34m)\u001b[0m\u001b[0;34m\u001b[0m\u001b[0;34m\u001b[0m\u001b[0m\n",
            "\u001b[0;31mNameError\u001b[0m: name 'sheet' is not defined"
          ]
        }
      ]
    },
    {
      "cell_type": "markdown",
      "metadata": {
        "id": "1e8b9c29"
      },
      "source": [
        "## 3. TICKER SEARCH"
      ],
      "id": "1e8b9c29"
    },
    {
      "cell_type": "markdown",
      "source": [
        "## 1) Load Tickers"
      ],
      "metadata": {
        "id": "8ku_wW0EFy-8"
      },
      "id": "8ku_wW0EFy-8"
    },
    {
      "cell_type": "code",
      "source": [
        "nyse, ndq = fdr.StockListing('NYSE'), fdr.StockListing('NASDAQ')"
      ],
      "metadata": {
        "id": "MFvoJvT6ACl6",
        "colab": {
          "base_uri": "https://localhost:8080/"
        },
        "outputId": "4f55dc6c-5a5a-4940-ad4b-2a1188375515"
      },
      "id": "MFvoJvT6ACl6",
      "execution_count": null,
      "outputs": [
        {
          "output_type": "stream",
          "name": "stderr",
          "text": [
            "100%|██████████| 3261/3261 [00:21<00:00, 154.10it/s]\n",
            "100%|██████████| 4432/4432 [00:31<00:00, 142.78it/s]\n"
          ]
        }
      ]
    },
    {
      "cell_type": "markdown",
      "source": [
        "##2) Load Sectors"
      ],
      "metadata": {
        "id": "zF_qkyADngN8"
      },
      "id": "zF_qkyADngN8"
    },
    {
      "cell_type": "code",
      "source": [
        "# sectors=set(nyse['Industry'].values)\n",
        "sectors=list(set(ndq['Industry'].values))\n",
        "pd.Series(sectors).sort_values()"
      ],
      "metadata": {
        "colab": {
          "base_uri": "https://localhost:8080/"
        },
        "id": "gVUBNBLm3bvf",
        "outputId": "7f779114-9f88-4698-fe24-36a2e9d0324b"
      },
      "id": "gVUBNBLm3bvf",
      "execution_count": null,
      "outputs": [
        {
          "output_type": "execute_result",
          "data": {
            "text/plain": [
              "41                 가정용품\n",
              "0       개인, 가정 용품 및 서비스\n",
              "50           건설 및 엔지니어링\n",
              "30    건설장비 및 대형차, 기차, 배\n",
              "54                건축 자재\n",
              "55                교육서비스\n",
              "56               기타 금융업\n",
              "18            다양한 금융서비스\n",
              "51              다양한 소매업\n",
              "4                 레저 상품\n",
              "36               메탈&마이닝\n",
              "44             미디어 및 출판\n",
              "3          반도체 및 반도체 장비\n",
              "8                    보험\n",
              "39                복합 기업\n",
              "49            부동산 운영 관리\n",
              "45               비즈니스교육\n",
              "24                 사무기기\n",
              "38       생명과학 및 메디컬 리서치\n",
              "21                   석탄\n",
              "29              섬유 및 의류\n",
              "14        소프트웨어 및 IT서비스\n",
              "57              수도 유틸리티\n",
              "5               식품 및 담배\n",
              "53            식품 및 약품소매\n",
              "25              오일 및 가스\n",
              "26     오일 및 가스 장비 및 서비스\n",
              "35              용기 및 포장\n",
              "34                  우라늄\n",
              "9             우주항공 및 국방\n",
              "43               운송 인프라\n",
              "2                   운송업\n",
              "13                   은행\n",
              "46                   음료\n",
              "28         자동차 및 자동차 부품\n",
              "23                재생에너지\n",
              "10              전기 유틸리티\n",
              "27          전문 및 상업 서비스\n",
              "52               전문품 상점\n",
              "17           전자 장비 및 부품\n",
              "48                   제약\n",
              "15             종이 및 임산물\n",
              "40          주택 및 상업용 리츠\n",
              "31                 주택건설\n",
              "19            천연가스 유틸리티\n",
              "16        커뮤니케이션 및 네트워킹\n",
              "42       컴퓨터, 전화 및 가전제품\n",
              "12               통신 서비스\n",
              "7       통합 하드웨어 및 소프트웨어\n",
              "33           투자은행 및 서비스\n",
              "11                  핀테크\n",
              "20                   학교\n",
              "6         헬스케어 업체 및 서비스\n",
              "22         헬스케어 장비 및 용품\n",
              "37          호텔 및 엔터테인먼트\n",
              "32          화물 및 물류 서비스\n",
              "47                   화학\n",
              "1                   NaN\n",
              "dtype: object"
            ]
          },
          "metadata": {},
          "execution_count": 91
        }
      ]
    },
    {
      "cell_type": "markdown",
      "source": [
        "## 2) Search tickers"
      ],
      "metadata": {
        "id": "W9_ZPYNIF8-z"
      },
      "id": "W9_ZPYNIF8-z"
    },
    {
      "cell_type": "code",
      "source": [
        "class tickerSearch:\n",
        "    def __init__(self,index,sector):\n",
        "        if index=='NYSE':\n",
        "            data = dict(list(nyse.groupby('Industry')))\n",
        "        if index=='NASDAQ':\n",
        "            data = dict(list(ndq.groupby('Industry')))\n",
        "        tickers=list(data[sector]['Symbol'].values)\n",
        "        self.tickerFilt=[ticker for ticker in tqdm(tickers) if yf.download(ticker,progress=False).empty!=True]\n",
        "\n",
        "    def download(self):\n",
        "        tickers=self.tickerFilt\n",
        "        data=yf.download(tickers,start=startdate,end=enddate)\n",
        "        result=(data['Adj Close'].iloc[-1]/data['Adj Close'].iloc[0]-1).sort_values(ascending=False).dropna()\n",
        "        return result"
      ],
      "metadata": {
        "id": "XPEUYDYc78gk"
      },
      "id": "XPEUYDYc78gk",
      "execution_count": null,
      "outputs": []
    },
    {
      "cell_type": "code",
      "source": [
        "tickerInit=tickerSearch('NYSE','식품 및 약품소매')\n",
        "searchResult=tickerSearch.download(tickerInit)"
      ],
      "metadata": {
        "id": "OWD30ye5__kW",
        "colab": {
          "base_uri": "https://localhost:8080/"
        },
        "outputId": "356a1364-b377-4622-e1b4-a000a6999cd8"
      },
      "id": "OWD30ye5__kW",
      "execution_count": null,
      "outputs": [
        {
          "output_type": "stream",
          "name": "stderr",
          "text": [
            "\n",
            "  0%|          | 0/11 [00:00<?, ?it/s]\u001b[A\n",
            "  9%|▉         | 1/11 [00:00<00:06,  1.52it/s]\u001b[A\n",
            " 18%|█▊        | 2/11 [00:01<00:05,  1.56it/s]\u001b[A\n",
            " 27%|██▋       | 3/11 [00:01<00:05,  1.50it/s]\u001b[A\n",
            " 36%|███▋      | 4/11 [00:02<00:03,  1.94it/s]\u001b[A\n",
            " 45%|████▌     | 5/11 [00:02<00:02,  2.35it/s]\u001b[A\n",
            " 55%|█████▍    | 6/11 [00:02<00:01,  2.63it/s]\u001b[A\n",
            " 64%|██████▎   | 7/11 [00:03<00:01,  2.83it/s]\u001b[A\n",
            " 73%|███████▎  | 8/11 [00:03<00:01,  2.57it/s]\u001b[A\n",
            " 82%|████████▏ | 9/11 [00:04<00:00,  2.07it/s]\u001b[A\n",
            " 91%|█████████ | 10/11 [00:04<00:00,  1.98it/s]\u001b[A\n",
            "100%|██████████| 11/11 [00:05<00:00,  2.05it/s]"
          ]
        },
        {
          "output_type": "stream",
          "name": "stdout",
          "text": [
            "\r[                       0%                       ]"
          ]
        },
        {
          "output_type": "stream",
          "name": "stderr",
          "text": [
            "\n"
          ]
        },
        {
          "output_type": "stream",
          "name": "stdout",
          "text": [
            "[*********************100%***********************]  11 of 11 completed\n"
          ]
        }
      ]
    },
    {
      "cell_type": "code",
      "source": [
        "filterN=10\n",
        "searchTickers=searchResult.index[:filterN]"
      ],
      "metadata": {
        "id": "VBfgOCiU48Ka"
      },
      "id": "VBfgOCiU48Ka",
      "execution_count": null,
      "outputs": []
    },
    {
      "cell_type": "markdown",
      "metadata": {
        "id": "f9f83418"
      },
      "source": [
        "## 4. COMPARE FINANCIALS"
      ],
      "id": "f9f83418"
    },
    {
      "cell_type": "code",
      "execution_count": null,
      "metadata": {
        "id": "42f43818"
      },
      "outputs": [],
      "source": [
        "def financialCompare(command):\n",
        "    if command=='SEARCH':\n",
        "        tickers=tickerDict['SEARCH']\n",
        "    else:\n",
        "        tickers=tickerDict['WATCH']\n",
        "    def getFinancial(ticker):\n",
        "        def return_(info, key):\n",
        "            try: return info[key]\n",
        "            except KeyError: return \"NaN\"\n",
        "        info=yf.Ticker(ticker).info\n",
        "        infoCustom=[return_(info,\"trailingPE\"), return_(info,\"forwardPE\"), return_(info,\"priceToBook\"),\n",
        "                    return_(info,\"pegRatio\"), return_(info,\"returnOnEquity\"),return_(info,\"shortPercentOfFloat\"),\n",
        "                    return_(info,\"quickRatio\")]\n",
        "        return infoCustom\n",
        "\n",
        "    financial=[getFinancial(ticker) for ticker in tqdm(tickers)]\n",
        "    df=pd.DataFrame(data=financial,\n",
        "                    index=tickers,\n",
        "                    columns=['PER', 'FPER', 'PBR',\n",
        "                             'PEGR', 'ROE', 'short%', 'qRatio'])\n",
        "    df=df.sort_values('FPER',ascending=False)\n",
        "    return df"
      ],
      "id": "42f43818"
    },
    {
      "cell_type": "code",
      "source": [
        "tickerDict={\n",
        "    'SEARCH':searchTickers,\n",
        "    'WATCH':['CLFD','ON','ONTO','RELL','META','EQNR','STEM','ANDE','POST','UFPT']\n",
        "}"
      ],
      "metadata": {
        "id": "n6RVLFLCMZWK"
      },
      "id": "n6RVLFLCMZWK",
      "execution_count": null,
      "outputs": []
    },
    {
      "cell_type": "code",
      "source": [
        "financialCompare('WATCH')"
      ],
      "metadata": {
        "colab": {
          "base_uri": "https://localhost:8080/",
          "height": 381
        },
        "id": "XPjYrN7uNFf0",
        "outputId": "dff43f08-29bd-4a5b-e9e7-bf0649159734"
      },
      "id": "XPjYrN7uNFf0",
      "execution_count": null,
      "outputs": [
        {
          "output_type": "stream",
          "name": "stderr",
          "text": [
            "100%|██████████| 10/10 [00:10<00:00,  1.02s/it]\n"
          ]
        },
        {
          "output_type": "execute_result",
          "data": {
            "text/plain": [
              "            PER       FPER       PBR  PEGR      ROE  short%  qRatio\n",
              "UFPT  24.569672  27.500000  4.017828   NaN  0.17532  0.0180   1.289\n",
              "POST   7.779896  23.380209  1.619584  0.91  0.22393  0.0338   1.492\n",
              "ONTO  18.615566  18.571764  2.490298  1.17  0.13854  0.0234   4.649\n",
              "META  13.352284  18.181473  3.076841 -0.88  0.22398  0.0130   2.336\n",
              "ON    17.226278  15.698448  5.412844  0.68  0.35147  0.0550   1.898\n",
              "CLFD  21.152779  15.139165  7.130150   NaN  0.39269  0.1154   1.473\n",
              "ANDE   9.032745  14.344000  1.002684  1.30  0.14967  0.0230   0.491\n",
              "RELL  14.859756  13.846591  2.316100  0.76  0.16850  0.0339   1.546\n",
              "EQNR   4.116556   5.061889  2.291022  0.79  0.60734     NaN   1.341\n",
              "STEM   8.600000 -19.907406  2.878950   NaN -0.20334  0.1352   1.821"
            ],
            "text/html": [
              "\n",
              "  <div id=\"df-df01751c-98d3-40db-b988-ef7973d1d1ae\">\n",
              "    <div class=\"colab-df-container\">\n",
              "      <div>\n",
              "<style scoped>\n",
              "    .dataframe tbody tr th:only-of-type {\n",
              "        vertical-align: middle;\n",
              "    }\n",
              "\n",
              "    .dataframe tbody tr th {\n",
              "        vertical-align: top;\n",
              "    }\n",
              "\n",
              "    .dataframe thead th {\n",
              "        text-align: right;\n",
              "    }\n",
              "</style>\n",
              "<table border=\"1\" class=\"dataframe\">\n",
              "  <thead>\n",
              "    <tr style=\"text-align: right;\">\n",
              "      <th></th>\n",
              "      <th>PER</th>\n",
              "      <th>FPER</th>\n",
              "      <th>PBR</th>\n",
              "      <th>PEGR</th>\n",
              "      <th>ROE</th>\n",
              "      <th>short%</th>\n",
              "      <th>qRatio</th>\n",
              "    </tr>\n",
              "  </thead>\n",
              "  <tbody>\n",
              "    <tr>\n",
              "      <th>UFPT</th>\n",
              "      <td>24.569672</td>\n",
              "      <td>27.500000</td>\n",
              "      <td>4.017828</td>\n",
              "      <td>NaN</td>\n",
              "      <td>0.17532</td>\n",
              "      <td>0.0180</td>\n",
              "      <td>1.289</td>\n",
              "    </tr>\n",
              "    <tr>\n",
              "      <th>POST</th>\n",
              "      <td>7.779896</td>\n",
              "      <td>23.380209</td>\n",
              "      <td>1.619584</td>\n",
              "      <td>0.91</td>\n",
              "      <td>0.22393</td>\n",
              "      <td>0.0338</td>\n",
              "      <td>1.492</td>\n",
              "    </tr>\n",
              "    <tr>\n",
              "      <th>ONTO</th>\n",
              "      <td>18.615566</td>\n",
              "      <td>18.571764</td>\n",
              "      <td>2.490298</td>\n",
              "      <td>1.17</td>\n",
              "      <td>0.13854</td>\n",
              "      <td>0.0234</td>\n",
              "      <td>4.649</td>\n",
              "    </tr>\n",
              "    <tr>\n",
              "      <th>META</th>\n",
              "      <td>13.352284</td>\n",
              "      <td>18.181473</td>\n",
              "      <td>3.076841</td>\n",
              "      <td>-0.88</td>\n",
              "      <td>0.22398</td>\n",
              "      <td>0.0130</td>\n",
              "      <td>2.336</td>\n",
              "    </tr>\n",
              "    <tr>\n",
              "      <th>ON</th>\n",
              "      <td>17.226278</td>\n",
              "      <td>15.698448</td>\n",
              "      <td>5.412844</td>\n",
              "      <td>0.68</td>\n",
              "      <td>0.35147</td>\n",
              "      <td>0.0550</td>\n",
              "      <td>1.898</td>\n",
              "    </tr>\n",
              "    <tr>\n",
              "      <th>CLFD</th>\n",
              "      <td>21.152779</td>\n",
              "      <td>15.139165</td>\n",
              "      <td>7.130150</td>\n",
              "      <td>NaN</td>\n",
              "      <td>0.39269</td>\n",
              "      <td>0.1154</td>\n",
              "      <td>1.473</td>\n",
              "    </tr>\n",
              "    <tr>\n",
              "      <th>ANDE</th>\n",
              "      <td>9.032745</td>\n",
              "      <td>14.344000</td>\n",
              "      <td>1.002684</td>\n",
              "      <td>1.30</td>\n",
              "      <td>0.14967</td>\n",
              "      <td>0.0230</td>\n",
              "      <td>0.491</td>\n",
              "    </tr>\n",
              "    <tr>\n",
              "      <th>RELL</th>\n",
              "      <td>14.859756</td>\n",
              "      <td>13.846591</td>\n",
              "      <td>2.316100</td>\n",
              "      <td>0.76</td>\n",
              "      <td>0.16850</td>\n",
              "      <td>0.0339</td>\n",
              "      <td>1.546</td>\n",
              "    </tr>\n",
              "    <tr>\n",
              "      <th>EQNR</th>\n",
              "      <td>4.116556</td>\n",
              "      <td>5.061889</td>\n",
              "      <td>2.291022</td>\n",
              "      <td>0.79</td>\n",
              "      <td>0.60734</td>\n",
              "      <td>NaN</td>\n",
              "      <td>1.341</td>\n",
              "    </tr>\n",
              "    <tr>\n",
              "      <th>STEM</th>\n",
              "      <td>8.600000</td>\n",
              "      <td>-19.907406</td>\n",
              "      <td>2.878950</td>\n",
              "      <td>NaN</td>\n",
              "      <td>-0.20334</td>\n",
              "      <td>0.1352</td>\n",
              "      <td>1.821</td>\n",
              "    </tr>\n",
              "  </tbody>\n",
              "</table>\n",
              "</div>\n",
              "      <button class=\"colab-df-convert\" onclick=\"convertToInteractive('df-df01751c-98d3-40db-b988-ef7973d1d1ae')\"\n",
              "              title=\"Convert this dataframe to an interactive table.\"\n",
              "              style=\"display:none;\">\n",
              "        \n",
              "  <svg xmlns=\"http://www.w3.org/2000/svg\" height=\"24px\"viewBox=\"0 0 24 24\"\n",
              "       width=\"24px\">\n",
              "    <path d=\"M0 0h24v24H0V0z\" fill=\"none\"/>\n",
              "    <path d=\"M18.56 5.44l.94 2.06.94-2.06 2.06-.94-2.06-.94-.94-2.06-.94 2.06-2.06.94zm-11 1L8.5 8.5l.94-2.06 2.06-.94-2.06-.94L8.5 2.5l-.94 2.06-2.06.94zm10 10l.94 2.06.94-2.06 2.06-.94-2.06-.94-.94-2.06-.94 2.06-2.06.94z\"/><path d=\"M17.41 7.96l-1.37-1.37c-.4-.4-.92-.59-1.43-.59-.52 0-1.04.2-1.43.59L10.3 9.45l-7.72 7.72c-.78.78-.78 2.05 0 2.83L4 21.41c.39.39.9.59 1.41.59.51 0 1.02-.2 1.41-.59l7.78-7.78 2.81-2.81c.8-.78.8-2.07 0-2.86zM5.41 20L4 18.59l7.72-7.72 1.47 1.35L5.41 20z\"/>\n",
              "  </svg>\n",
              "      </button>\n",
              "      \n",
              "  <style>\n",
              "    .colab-df-container {\n",
              "      display:flex;\n",
              "      flex-wrap:wrap;\n",
              "      gap: 12px;\n",
              "    }\n",
              "\n",
              "    .colab-df-convert {\n",
              "      background-color: #E8F0FE;\n",
              "      border: none;\n",
              "      border-radius: 50%;\n",
              "      cursor: pointer;\n",
              "      display: none;\n",
              "      fill: #1967D2;\n",
              "      height: 32px;\n",
              "      padding: 0 0 0 0;\n",
              "      width: 32px;\n",
              "    }\n",
              "\n",
              "    .colab-df-convert:hover {\n",
              "      background-color: #E2EBFA;\n",
              "      box-shadow: 0px 1px 2px rgba(60, 64, 67, 0.3), 0px 1px 3px 1px rgba(60, 64, 67, 0.15);\n",
              "      fill: #174EA6;\n",
              "    }\n",
              "\n",
              "    [theme=dark] .colab-df-convert {\n",
              "      background-color: #3B4455;\n",
              "      fill: #D2E3FC;\n",
              "    }\n",
              "\n",
              "    [theme=dark] .colab-df-convert:hover {\n",
              "      background-color: #434B5C;\n",
              "      box-shadow: 0px 1px 3px 1px rgba(0, 0, 0, 0.15);\n",
              "      filter: drop-shadow(0px 1px 2px rgba(0, 0, 0, 0.3));\n",
              "      fill: #FFFFFF;\n",
              "    }\n",
              "  </style>\n",
              "\n",
              "      <script>\n",
              "        const buttonEl =\n",
              "          document.querySelector('#df-df01751c-98d3-40db-b988-ef7973d1d1ae button.colab-df-convert');\n",
              "        buttonEl.style.display =\n",
              "          google.colab.kernel.accessAllowed ? 'block' : 'none';\n",
              "\n",
              "        async function convertToInteractive(key) {\n",
              "          const element = document.querySelector('#df-df01751c-98d3-40db-b988-ef7973d1d1ae');\n",
              "          const dataTable =\n",
              "            await google.colab.kernel.invokeFunction('convertToInteractive',\n",
              "                                                     [key], {});\n",
              "          if (!dataTable) return;\n",
              "\n",
              "          const docLinkHtml = 'Like what you see? Visit the ' +\n",
              "            '<a target=\"_blank\" href=https://colab.research.google.com/notebooks/data_table.ipynb>data table notebook</a>'\n",
              "            + ' to learn more about interactive tables.';\n",
              "          element.innerHTML = '';\n",
              "          dataTable['output_type'] = 'display_data';\n",
              "          await google.colab.output.renderOutput(dataTable, element);\n",
              "          const docLink = document.createElement('div');\n",
              "          docLink.innerHTML = docLinkHtml;\n",
              "          element.appendChild(docLink);\n",
              "        }\n",
              "      </script>\n",
              "    </div>\n",
              "  </div>\n",
              "  "
            ]
          },
          "metadata": {},
          "execution_count": 98
        }
      ]
    },
    {
      "cell_type": "code",
      "source": [
        "data=yf.download(tickerDict['WATCH'],start=startdate,end=enddate)\n",
        "result=(data['Adj Close'].iloc[-1]/data['Adj Close'].iloc[0]-1).sort_values(ascending=False).dropna()\n",
        "result"
      ],
      "metadata": {
        "colab": {
          "base_uri": "https://localhost:8080/"
        },
        "id": "AC83LgfKlI_N",
        "outputId": "6f6be129-57fa-4552-d247-78f3e2c25a1e"
      },
      "id": "AC83LgfKlI_N",
      "execution_count": null,
      "outputs": [
        {
          "output_type": "stream",
          "name": "stdout",
          "text": [
            "[*********************100%***********************]  10 of 10 completed\n"
          ]
        },
        {
          "output_type": "execute_result",
          "data": {
            "text/plain": [
              "CLFD    5.879100\n",
              "ON      2.948748\n",
              "UFPT    2.769427\n",
              "RELL    2.175847\n",
              "EQNR    0.771678\n",
              "POST    0.540913\n",
              "ANDE    0.286036\n",
              "META    0.027196\n",
              "dtype: float64"
            ]
          },
          "metadata": {},
          "execution_count": 101
        }
      ]
    },
    {
      "cell_type": "markdown",
      "metadata": {
        "id": "0e70f34f"
      },
      "source": [
        "#5. Visualized Financials"
      ],
      "id": "0e70f34f"
    },
    {
      "cell_type": "code",
      "source": [
        "def revenueGrowthTable(tickers):\n",
        "    revDict={}\n",
        "    for ticker in tickers:\n",
        "        data=yf.Ticker(ticker).earnings\n",
        "        revGrowth=[(data.iloc[i+1,0]-data.iloc[i,0])/data.iloc[i,0]*100 for i in range(3)]\n",
        "        revDict[ticker]=revGrowth\n",
        "    result=pd.DataFrame(data=revDict)\n",
        "    return result"
      ],
      "metadata": {
        "id": "S15a52kTp5yc"
      },
      "id": "S15a52kTp5yc",
      "execution_count": null,
      "outputs": []
    },
    {
      "cell_type": "code",
      "source": [
        "revenueGrowthTable(tickerDict['WATCH'])"
      ],
      "metadata": {
        "colab": {
          "base_uri": "https://localhost:8080/",
          "height": 161
        },
        "id": "ysbiQ0yu0y2N",
        "outputId": "ab0b54b7-fb1f-4003-fe7b-d08272409443"
      },
      "id": "ysbiQ0yu0y2N",
      "execution_count": null,
      "outputs": [
        {
          "output_type": "stream",
          "name": "stderr",
          "text": [
            "\r 13%|█▎        | 2/15 [03:14<21:02, 97.13s/it]\n"
          ]
        },
        {
          "output_type": "execute_result",
          "data": {
            "text/plain": [
              "        CLFD         ON       ONTO       RELL       META       EQNR  \\\n",
              "0   9.455983  -6.131024  11.728954  -6.452968  26.610910 -19.915729   \n",
              "1  51.227505  -4.764494  81.923268  13.495362  21.596390 -27.273450   \n",
              "2  92.450002  28.254995  41.761846  26.949140  37.182574  93.963237   \n",
              "\n",
              "         STEM        ANDE       POST       UFPT  \n",
              "0  149.601820  162.799642 -17.075918   4.161613  \n",
              "1  106.853920    0.766776   5.724899  -9.581563  \n",
              "2  250.816647   56.387406  17.477463  15.022885  "
            ],
            "text/html": [
              "\n",
              "  <div id=\"df-70666bbf-947a-4b46-92b4-408cc16cfe7f\">\n",
              "    <div class=\"colab-df-container\">\n",
              "      <div>\n",
              "<style scoped>\n",
              "    .dataframe tbody tr th:only-of-type {\n",
              "        vertical-align: middle;\n",
              "    }\n",
              "\n",
              "    .dataframe tbody tr th {\n",
              "        vertical-align: top;\n",
              "    }\n",
              "\n",
              "    .dataframe thead th {\n",
              "        text-align: right;\n",
              "    }\n",
              "</style>\n",
              "<table border=\"1\" class=\"dataframe\">\n",
              "  <thead>\n",
              "    <tr style=\"text-align: right;\">\n",
              "      <th></th>\n",
              "      <th>CLFD</th>\n",
              "      <th>ON</th>\n",
              "      <th>ONTO</th>\n",
              "      <th>RELL</th>\n",
              "      <th>META</th>\n",
              "      <th>EQNR</th>\n",
              "      <th>STEM</th>\n",
              "      <th>ANDE</th>\n",
              "      <th>POST</th>\n",
              "      <th>UFPT</th>\n",
              "    </tr>\n",
              "  </thead>\n",
              "  <tbody>\n",
              "    <tr>\n",
              "      <th>0</th>\n",
              "      <td>9.455983</td>\n",
              "      <td>-6.131024</td>\n",
              "      <td>11.728954</td>\n",
              "      <td>-6.452968</td>\n",
              "      <td>26.610910</td>\n",
              "      <td>-19.915729</td>\n",
              "      <td>149.601820</td>\n",
              "      <td>162.799642</td>\n",
              "      <td>-17.075918</td>\n",
              "      <td>4.161613</td>\n",
              "    </tr>\n",
              "    <tr>\n",
              "      <th>1</th>\n",
              "      <td>51.227505</td>\n",
              "      <td>-4.764494</td>\n",
              "      <td>81.923268</td>\n",
              "      <td>13.495362</td>\n",
              "      <td>21.596390</td>\n",
              "      <td>-27.273450</td>\n",
              "      <td>106.853920</td>\n",
              "      <td>0.766776</td>\n",
              "      <td>5.724899</td>\n",
              "      <td>-9.581563</td>\n",
              "    </tr>\n",
              "    <tr>\n",
              "      <th>2</th>\n",
              "      <td>92.450002</td>\n",
              "      <td>28.254995</td>\n",
              "      <td>41.761846</td>\n",
              "      <td>26.949140</td>\n",
              "      <td>37.182574</td>\n",
              "      <td>93.963237</td>\n",
              "      <td>250.816647</td>\n",
              "      <td>56.387406</td>\n",
              "      <td>17.477463</td>\n",
              "      <td>15.022885</td>\n",
              "    </tr>\n",
              "  </tbody>\n",
              "</table>\n",
              "</div>\n",
              "      <button class=\"colab-df-convert\" onclick=\"convertToInteractive('df-70666bbf-947a-4b46-92b4-408cc16cfe7f')\"\n",
              "              title=\"Convert this dataframe to an interactive table.\"\n",
              "              style=\"display:none;\">\n",
              "        \n",
              "  <svg xmlns=\"http://www.w3.org/2000/svg\" height=\"24px\"viewBox=\"0 0 24 24\"\n",
              "       width=\"24px\">\n",
              "    <path d=\"M0 0h24v24H0V0z\" fill=\"none\"/>\n",
              "    <path d=\"M18.56 5.44l.94 2.06.94-2.06 2.06-.94-2.06-.94-.94-2.06-.94 2.06-2.06.94zm-11 1L8.5 8.5l.94-2.06 2.06-.94-2.06-.94L8.5 2.5l-.94 2.06-2.06.94zm10 10l.94 2.06.94-2.06 2.06-.94-2.06-.94-.94-2.06-.94 2.06-2.06.94z\"/><path d=\"M17.41 7.96l-1.37-1.37c-.4-.4-.92-.59-1.43-.59-.52 0-1.04.2-1.43.59L10.3 9.45l-7.72 7.72c-.78.78-.78 2.05 0 2.83L4 21.41c.39.39.9.59 1.41.59.51 0 1.02-.2 1.41-.59l7.78-7.78 2.81-2.81c.8-.78.8-2.07 0-2.86zM5.41 20L4 18.59l7.72-7.72 1.47 1.35L5.41 20z\"/>\n",
              "  </svg>\n",
              "      </button>\n",
              "      \n",
              "  <style>\n",
              "    .colab-df-container {\n",
              "      display:flex;\n",
              "      flex-wrap:wrap;\n",
              "      gap: 12px;\n",
              "    }\n",
              "\n",
              "    .colab-df-convert {\n",
              "      background-color: #E8F0FE;\n",
              "      border: none;\n",
              "      border-radius: 50%;\n",
              "      cursor: pointer;\n",
              "      display: none;\n",
              "      fill: #1967D2;\n",
              "      height: 32px;\n",
              "      padding: 0 0 0 0;\n",
              "      width: 32px;\n",
              "    }\n",
              "\n",
              "    .colab-df-convert:hover {\n",
              "      background-color: #E2EBFA;\n",
              "      box-shadow: 0px 1px 2px rgba(60, 64, 67, 0.3), 0px 1px 3px 1px rgba(60, 64, 67, 0.15);\n",
              "      fill: #174EA6;\n",
              "    }\n",
              "\n",
              "    [theme=dark] .colab-df-convert {\n",
              "      background-color: #3B4455;\n",
              "      fill: #D2E3FC;\n",
              "    }\n",
              "\n",
              "    [theme=dark] .colab-df-convert:hover {\n",
              "      background-color: #434B5C;\n",
              "      box-shadow: 0px 1px 3px 1px rgba(0, 0, 0, 0.15);\n",
              "      filter: drop-shadow(0px 1px 2px rgba(0, 0, 0, 0.3));\n",
              "      fill: #FFFFFF;\n",
              "    }\n",
              "  </style>\n",
              "\n",
              "      <script>\n",
              "        const buttonEl =\n",
              "          document.querySelector('#df-70666bbf-947a-4b46-92b4-408cc16cfe7f button.colab-df-convert');\n",
              "        buttonEl.style.display =\n",
              "          google.colab.kernel.accessAllowed ? 'block' : 'none';\n",
              "\n",
              "        async function convertToInteractive(key) {\n",
              "          const element = document.querySelector('#df-70666bbf-947a-4b46-92b4-408cc16cfe7f');\n",
              "          const dataTable =\n",
              "            await google.colab.kernel.invokeFunction('convertToInteractive',\n",
              "                                                     [key], {});\n",
              "          if (!dataTable) return;\n",
              "\n",
              "          const docLinkHtml = 'Like what you see? Visit the ' +\n",
              "            '<a target=\"_blank\" href=https://colab.research.google.com/notebooks/data_table.ipynb>data table notebook</a>'\n",
              "            + ' to learn more about interactive tables.';\n",
              "          element.innerHTML = '';\n",
              "          dataTable['output_type'] = 'display_data';\n",
              "          await google.colab.output.renderOutput(dataTable, element);\n",
              "          const docLink = document.createElement('div');\n",
              "          docLink.innerHTML = docLinkHtml;\n",
              "          element.appendChild(docLink);\n",
              "        }\n",
              "      </script>\n",
              "    </div>\n",
              "  </div>\n",
              "  "
            ]
          },
          "metadata": {},
          "execution_count": 78
        }
      ]
    },
    {
      "cell_type": "code",
      "execution_count": null,
      "metadata": {
        "id": "ccdca3af",
        "colab": {
          "base_uri": "https://localhost:8080/",
          "height": 823
        },
        "outputId": "07dddbdd-355d-43ff-9eb2-596046937c3b"
      },
      "outputs": [
        {
          "output_type": "display_data",
          "data": {
            "text/plain": [
              "<Figure size 432x288 with 5 Axes>"
            ],
            "image/png": "[encoded data removed]"
          },
          "metadata": {
            "needs_background": "light"
          }
        },
        {
          "output_type": "display_data",
          "data": {
            "text/plain": [
              "<Figure size 432x288 with 5 Axes>"
            ],
            "image/png": "[encoded data removed]"
          },
          "metadata": {
            "needs_background": "light"
          }
        },
        {
          "output_type": "display_data",
          "data": {
            "text/plain": [
              "<Figure size 432x288 with 5 Axes>"
            ],
            "image/png": "[encoded data removed]"
          },
          "metadata": {
            "needs_background": "light"
          }
        }
      ],
      "source": [
        "\n",
        "def plt_balance(tickerlist):\n",
        "    fig, axs = plt.subplots(len(tickerlist))\n",
        "    for i in range(0,len(tickerlist)):\n",
        "        #get datas for balance sheet\n",
        "        ticker_yf=yf.Ticker(tickerlist[i])\n",
        "        balance=ticker_yf.balance_sheet.loc[[\"Total Assets\",\"Total Liab\",\"Total Stockholder Equity\",\"Cash\"]]\n",
        "        balance=balance.transpose().sort_index()\n",
        "        #plotting\n",
        "        sns.lineplot(data=balance,ax=axs[i],legend=False)\n",
        "        if i==0:\n",
        "            axs[i].legend([\"Total Assets\",\"Total Liab\",\"Total Stockholder Equity\",\"Cash\"],\n",
        "                          loc=2,\n",
        "                          prop={'size': 6})\n",
        "        axs[i].set_title(tickerlist[i])\n",
        "    plt.show()\n",
        "\n",
        "def plt_cashflow(tickerlist):\n",
        "    fig, axs = plt.subplots(len(tickerlist))\n",
        "    for i in range(0,len(tickerlist)):\n",
        "        #get datas for balance sheet\n",
        "        ticker_yf=yf.Ticker(tickerlist[i])\n",
        "        cashflow=ticker_yf.cashflow.loc[[\"Total Cash From Operating Activities\",\n",
        "                                         \"Total Cashflows From Investing Activities\",\n",
        "                                         \"Total Cash From Financing Activities\"]]\n",
        "        cashflow=cashflow.transpose().sort_index()\n",
        "        sns.lineplot(data=cashflow,ax=axs[i],legend=False)\n",
        "        if i==0:\n",
        "            axs[i].legend([\"Total Cash From Operating Activities\",\n",
        "                           \"Total Cash From Investing Activities\",\n",
        "                           \"Total Cash From Financing Activities\"],\n",
        "                          loc=2,\n",
        "                          prop={'size': 6})\n",
        "        axs[i].set_title(tickerlist[i])\n",
        "    plt.show()\n",
        "\n",
        "plt_balance(view)\n",
        "plt_cashflow(view)"
      ],
      "id": "ccdca3af"
    },
    {
      "cell_type": "code",
      "source": [],
      "metadata": {
        "id": "Ngg9heAn_rtf"
      },
      "id": "Ngg9heAn_rtf",
      "execution_count": null,
      "outputs": []
    }
  ],
  "metadata": {
    "colab": {
      "provenance": [],
      "include_colab_link": true
    },
    "gpuClass": "standard",
    "kernelspec": {
      "display_name": "Python 3 (ipykernel)",
      "language": "python",
      "name": "python3"
    },
    "language_info": {
      "codemirror_mode": {
        "name": "ipython",
        "version": 3
      },
      "file_extension": ".py",
      "mimetype": "text/x-python",
      "name": "python",
      "nbconvert_exporter": "python",
      "pygments_lexer": "ipython3",
      "version": "3.9.7"
    }
  },
  "nbformat": 4,
  "nbformat_minor": 5
}