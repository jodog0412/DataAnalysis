{
  "cells": [
    {
      "cell_type": "markdown",
      "metadata": {
        "id": "view-in-github",
        "colab_type": "text"
      },
      "source": [
        "<a href=\"https://colab.research.google.com/github/jodog0412/US-STOCKS-INVESTMENT-ASSISTANCE/blob/master/stock_investment_assistance.ipynb\" target=\"_parent\"><img src=\"https://colab.research.google.com/assets/colab-badge.svg\" alt=\"Open In Colab\"/></a>"
      ]
    },
    {
      "cell_type": "markdown",
      "metadata": {
        "id": "e6c4ba99"
      },
      "source": [
        "# 1. Environment&Import"
      ],
      "id": "e6c4ba99"
    },
    {
      "cell_type": "code",
      "source": [
        "from google.colab import drive\n",
        "drive.mount('/content/drive')\n",
        "!cd /content/drive/MyDrive/Colab Notebooks/US-STOCKS-INVESTMENT-ASSISTANCE"
      ],
      "metadata": {
        "id": "HcYzNOwGxtxz"
      },
      "id": "HcYzNOwGxtxz",
      "execution_count": null,
      "outputs": []
    },
    {
      "cell_type": "code",
      "execution_count": 1,
      "metadata": {
        "id": "4337ffbd",
        "colab": {
          "base_uri": "https://localhost:8080/"
        },
        "outputId": "fdec8cdd-0469-40e3-ecf2-761e3a319dcf"
      },
      "outputs": [
        {
          "output_type": "stream",
          "name": "stdout",
          "text": [
            "Looking in indexes: https://pypi.org/simple, https://us-python.pkg.dev/colab-wheels/public/simple/\n",
            "Collecting yfinance\n",
            "  Downloading yfinance-0.2.4-py2.py3-none-any.whl (51 kB)\n",
            "\u001b[2K     \u001b[90m━━━━━━━━━━━━━━━━━━━━━━━━━━━━━━━━━━━━━━━━\u001b[0m \u001b[32m51.4/51.4 KB\u001b[0m \u001b[31m50.4 MB/s\u001b[0m eta \u001b[36m0:00:00\u001b[0m\n",
            "\u001b[?25hCollecting html5lib>=1.1\n",
            "  Downloading html5lib-1.1-py2.py3-none-any.whl (112 kB)\n",
            "\u001b[2K     \u001b[90m━━━━━━━━━━━━━━━━━━━━━━━━━━━━━━━━━━━━━━\u001b[0m \u001b[32m112.2/112.2 KB\u001b[0m \u001b[31m24.4 MB/s\u001b[0m eta \u001b[36m0:00:00\u001b[0m\n",
            "\u001b[?25hRequirement already satisfied: pandas>=1.3.0 in /usr/local/lib/python3.8/dist-packages (from yfinance) (1.3.5)\n",
            "Collecting cryptography>=3.3.2\n",
            "  Downloading cryptography-39.0.0-cp36-abi3-manylinux_2_28_x86_64.whl (4.2 MB)\n",
            "\u001b[2K     \u001b[90m━━━━━━━━━━━━━━━━━━━━━━━━━━━━━━━━━━━━━━━━\u001b[0m \u001b[32m4.2/4.2 MB\u001b[0m \u001b[31m98.7 MB/s\u001b[0m eta \u001b[36m0:00:00\u001b[0m\n",
            "\u001b[?25hRequirement already satisfied: appdirs>=1.4.4 in /usr/local/lib/python3.8/dist-packages (from yfinance) (1.4.4)\n",
            "Collecting beautifulsoup4>=4.11.1\n",
            "  Downloading beautifulsoup4-4.11.1-py3-none-any.whl (128 kB)\n",
            "\u001b[2K     \u001b[90m━━━━━━━━━━━━━━━━━━━━━━━━━━━━━━━━━━━━━\u001b[0m \u001b[32m128.2/128.2 KB\u001b[0m \u001b[31m126.5 MB/s\u001b[0m eta \u001b[36m0:00:00\u001b[0m\n",
            "\u001b[?25hRequirement already satisfied: lxml>=4.9.1 in /usr/local/lib/python3.8/dist-packages (from yfinance) (4.9.2)\n",
            "Collecting requests>=2.26\n",
            "  Downloading requests-2.28.2-py3-none-any.whl (62 kB)\n",
            "\u001b[2K     \u001b[90m━━━━━━━━━━━━━━━━━━━━━━━━━━━━━━━━━━━━━━━\u001b[0m \u001b[32m62.8/62.8 KB\u001b[0m \u001b[31m102.9 MB/s\u001b[0m eta \u001b[36m0:00:00\u001b[0m\n",
            "\u001b[?25hCollecting frozendict>=2.3.4\n",
            "  Downloading frozendict-2.3.4-cp38-cp38-manylinux_2_17_x86_64.manylinux2014_x86_64.whl (110 kB)\n",
            "\u001b[2K     \u001b[90m━━━━━━━━━━━━━━━━━━━━━━━━━━━━━━━━━━━━━\u001b[0m \u001b[32m111.0/111.0 KB\u001b[0m \u001b[31m125.2 MB/s\u001b[0m eta \u001b[36m0:00:00\u001b[0m\n",
            "\u001b[?25hRequirement already satisfied: multitasking>=0.0.7 in /usr/local/lib/python3.8/dist-packages (from yfinance) (0.0.11)\n",
            "Requirement already satisfied: numpy>=1.16.5 in /usr/local/lib/python3.8/dist-packages (from yfinance) (1.21.6)\n",
            "Requirement already satisfied: pytz>=2022.5 in /usr/local/lib/python3.8/dist-packages (from yfinance) (2022.7)\n",
            "Collecting soupsieve>1.2\n",
            "  Downloading soupsieve-2.3.2.post1-py3-none-any.whl (37 kB)\n",
            "Requirement already satisfied: cffi>=1.12 in /usr/local/lib/python3.8/dist-packages (from cryptography>=3.3.2->yfinance) (1.15.1)\n",
            "Requirement already satisfied: six>=1.9 in /usr/local/lib/python3.8/dist-packages (from html5lib>=1.1->yfinance) (1.15.0)\n",
            "Requirement already satisfied: webencodings in /usr/local/lib/python3.8/dist-packages (from html5lib>=1.1->yfinance) (0.5.1)\n",
            "Requirement already satisfied: python-dateutil>=2.7.3 in /usr/local/lib/python3.8/dist-packages (from pandas>=1.3.0->yfinance) (2.8.2)\n",
            "Requirement already satisfied: certifi>=2017.4.17 in /usr/local/lib/python3.8/dist-packages (from requests>=2.26->yfinance) (2022.12.7)\n",
            "Requirement already satisfied: urllib3<1.27,>=1.21.1 in /usr/local/lib/python3.8/dist-packages (from requests>=2.26->yfinance) (1.24.3)\n",
            "Requirement already satisfied: idna<4,>=2.5 in /usr/local/lib/python3.8/dist-packages (from requests>=2.26->yfinance) (2.10)\n",
            "Requirement already satisfied: charset-normalizer<4,>=2 in /usr/local/lib/python3.8/dist-packages (from requests>=2.26->yfinance) (2.1.1)\n",
            "Requirement already satisfied: pycparser in /usr/local/lib/python3.8/dist-packages (from cffi>=1.12->cryptography>=3.3.2->yfinance) (2.21)\n",
            "Installing collected packages: soupsieve, requests, html5lib, frozendict, cryptography, beautifulsoup4, yfinance\n",
            "  Attempting uninstall: requests\n",
            "    Found existing installation: requests 2.25.1\n",
            "    Uninstalling requests-2.25.1:\n",
            "      Successfully uninstalled requests-2.25.1\n",
            "  Attempting uninstall: html5lib\n",
            "    Found existing installation: html5lib 1.0.1\n",
            "    Uninstalling html5lib-1.0.1:\n",
            "      Successfully uninstalled html5lib-1.0.1\n",
            "  Attempting uninstall: beautifulsoup4\n",
            "    Found existing installation: beautifulsoup4 4.6.3\n",
            "    Uninstalling beautifulsoup4-4.6.3:\n",
            "      Successfully uninstalled beautifulsoup4-4.6.3\n",
            "Successfully installed beautifulsoup4-4.11.1 cryptography-39.0.0 frozendict-2.3.4 html5lib-1.1 requests-2.28.2 soupsieve-2.3.2.post1 yfinance-0.2.4\n",
            "Looking in indexes: https://pypi.org/simple, https://us-python.pkg.dev/colab-wheels/public/simple/\n",
            "Collecting finance-datareader\n",
            "  Downloading finance_datareader-0.9.50-py3-none-any.whl (19 kB)\n",
            "Requirement already satisfied: lxml in /usr/local/lib/python3.8/dist-packages (from finance-datareader) (4.9.2)\n",
            "Requirement already satisfied: tqdm in /usr/local/lib/python3.8/dist-packages (from finance-datareader) (4.64.1)\n",
            "Collecting requests-file\n",
            "  Downloading requests_file-1.5.1-py2.py3-none-any.whl (3.7 kB)\n",
            "Requirement already satisfied: pandas>=0.19.2 in /usr/local/lib/python3.8/dist-packages (from finance-datareader) (1.3.5)\n",
            "Requirement already satisfied: requests>=2.3.0 in /usr/local/lib/python3.8/dist-packages (from finance-datareader) (2.28.2)\n",
            "Requirement already satisfied: python-dateutil>=2.7.3 in /usr/local/lib/python3.8/dist-packages (from pandas>=0.19.2->finance-datareader) (2.8.2)\n",
            "Requirement already satisfied: pytz>=2017.3 in /usr/local/lib/python3.8/dist-packages (from pandas>=0.19.2->finance-datareader) (2022.7)\n",
            "Requirement already satisfied: numpy>=1.17.3 in /usr/local/lib/python3.8/dist-packages (from pandas>=0.19.2->finance-datareader) (1.21.6)\n",
            "Requirement already satisfied: certifi>=2017.4.17 in /usr/local/lib/python3.8/dist-packages (from requests>=2.3.0->finance-datareader) (2022.12.7)\n",
            "Requirement already satisfied: urllib3<1.27,>=1.21.1 in /usr/local/lib/python3.8/dist-packages (from requests>=2.3.0->finance-datareader) (1.24.3)\n",
            "Requirement already satisfied: charset-normalizer<4,>=2 in /usr/local/lib/python3.8/dist-packages (from requests>=2.3.0->finance-datareader) (2.1.1)\n",
            "Requirement already satisfied: idna<4,>=2.5 in /usr/local/lib/python3.8/dist-packages (from requests>=2.3.0->finance-datareader) (2.10)\n",
            "Requirement already satisfied: six in /usr/local/lib/python3.8/dist-packages (from requests-file->finance-datareader) (1.15.0)\n",
            "Installing collected packages: requests-file, finance-datareader\n",
            "Successfully installed finance-datareader-0.9.50 requests-file-1.5.1\n"
          ]
        }
      ],
      "source": [
        "!pip install yfinance --upgrade --no-cache-dir\n",
        "!pip install finance-datareader --upgrade"
      ],
      "id": "4337ffbd"
    },
    {
      "cell_type": "code",
      "source": [
        "import numpy as np\n",
        "import pandas as pd\n",
        "import yfinance as yf\n",
        "yf.pdr_override()\n",
        "import FinanceDataReader as fdr\n",
        "import matplotlib.pyplot as plt\n",
        "import seaborn as sns\n",
        "from tqdm import tqdm"
      ],
      "metadata": {
        "id": "1_ayacXtFhEf"
      },
      "id": "1_ayacXtFhEf",
      "execution_count": 2,
      "outputs": []
    },
    {
      "cell_type": "code",
      "source": [
        "startdate='2022-01-01'\n",
        "enddate='2023-01-23'"
      ],
      "metadata": {
        "id": "zX8Kpdn2g97H"
      },
      "id": "zX8Kpdn2g97H",
      "execution_count": 119,
      "outputs": []
    },
    {
      "cell_type": "markdown",
      "metadata": {
        "id": "462d22f2"
      },
      "source": [
        "#2. Analyze Portfolio"
      ],
      "id": "462d22f2"
    },
    {
      "cell_type": "markdown",
      "source": [
        "## 1) Load spreadsheet"
      ],
      "metadata": {
        "id": "Pz5FK6ajFiyC"
      },
      "id": "Pz5FK6ajFiyC"
    },
    {
      "cell_type": "code",
      "source": [
        "from google.colab import auth\n",
        "auth.authenticate_user()\n",
        "from google.auth import default\n",
        "import gspread\n",
        "creds, _ = default()\n",
        "gc = gspread.authorize(creds)"
      ],
      "metadata": {
        "id": "rjbpkqbw26z2"
      },
      "id": "rjbpkqbw26z2",
      "execution_count": null,
      "outputs": []
    },
    {
      "cell_type": "code",
      "source": [
        "sheet=gc.open('US_STOCK').sheet1"
      ],
      "metadata": {
        "id": "Y_2roIhR7g0n"
      },
      "id": "Y_2roIhR7g0n",
      "execution_count": null,
      "outputs": []
    },
    {
      "cell_type": "markdown",
      "source": [
        "## 2) Analyze portfolio"
      ],
      "metadata": {
        "id": "haq1SZC3Fpx_"
      },
      "id": "haq1SZC3Fpx_"
    },
    {
      "cell_type": "code",
      "source": [
        "class portfolio:\n",
        "    def __init__(self,sheet):\n",
        "        data=pd.DataFrame(sheet.get_all_values())\n",
        "        pf=pd.DataFrame(data=data.values,\n",
        "                        columns=[\"TICKER\",\"TAG\",\"AVER_PRICE\",\"STOCK_NUM\",\"STOCK_QUANTITY\"]).sort_values(by=\"TICKER\")\n",
        "        self.pf=pf.sort_values(\"STOCK_QUANTITY\",ascending=False)\n",
        "        \n",
        "    def plot(self):\n",
        "        data=self.pf\n",
        "        pf_plt=plt.pie(data[\"STOCK_QUANTITY\"],labels=data.loc[:,\"TICKER\"],\n",
        "                       autopct='%.1f%%',startangle=90)\n",
        "        return(plt.show(pf_plt))\n",
        "    \n",
        "    def calcProfit(self,date):\n",
        "        ticker=self.pf.loc[:,\"TICKER\"].values\n",
        "        data=yf.download(list(ticker),start=startdate,end=enddate,progress=False)\n",
        "        last_price=data['Adj Close'].iloc[-1]\n",
        "        profit=(last_price/(self.pf)['AVER_PRICE'].values.astype(float)-1)*100\n",
        "        profit=profit.sort_values(ascending=False)\n",
        "        return(profit)"
      ],
      "metadata": {
        "id": "SdMwvb4ZIeHm"
      },
      "id": "SdMwvb4ZIeHm",
      "execution_count": null,
      "outputs": []
    },
    {
      "cell_type": "code",
      "source": [
        "sheetData=portfolio(sheet)\n",
        "sheetData.plot()"
      ],
      "metadata": {
        "id": "OZm8ViIVQVuM",
        "colab": {
          "base_uri": "https://localhost:8080/",
          "height": 190
        },
        "outputId": "5eed21f6-612f-4f6c-9219-d769ff8fd039"
      },
      "id": "OZm8ViIVQVuM",
      "execution_count": null,
      "outputs": [
        {
          "output_type": "error",
          "ename": "NameError",
          "evalue": "ignored",
          "traceback": [
            "\u001b[0;31m---------------------------------------------------------------------------\u001b[0m",
            "\u001b[0;31mNameError\u001b[0m                                 Traceback (most recent call last)",
            "\u001b[0;32m<ipython-input-82-3ec3e89bd39b>\u001b[0m in \u001b[0;36m<module>\u001b[0;34m\u001b[0m\n\u001b[0;32m----> 1\u001b[0;31m \u001b[0msheetData\u001b[0m\u001b[0;34m=\u001b[0m\u001b[0mportfolio\u001b[0m\u001b[0;34m(\u001b[0m\u001b[0msheet\u001b[0m\u001b[0;34m)\u001b[0m\u001b[0;34m\u001b[0m\u001b[0;34m\u001b[0m\u001b[0m\n\u001b[0m\u001b[1;32m      2\u001b[0m \u001b[0msheetData\u001b[0m\u001b[0;34m.\u001b[0m\u001b[0mplot\u001b[0m\u001b[0;34m(\u001b[0m\u001b[0;34m)\u001b[0m\u001b[0;34m\u001b[0m\u001b[0;34m\u001b[0m\u001b[0m\n",
            "\u001b[0;31mNameError\u001b[0m: name 'sheet' is not defined"
          ]
        }
      ]
    },
    {
      "cell_type": "markdown",
      "metadata": {
        "id": "1e8b9c29"
      },
      "source": [
        "## 3. Search Tickers"
      ],
      "id": "1e8b9c29"
    },
    {
      "cell_type": "markdown",
      "source": [
        "## 1) Load Tickers"
      ],
      "metadata": {
        "id": "8ku_wW0EFy-8"
      },
      "id": "8ku_wW0EFy-8"
    },
    {
      "cell_type": "code",
      "source": [
        "nyse, ndq = fdr.StockListing('NYSE'), fdr.StockListing('NASDAQ')"
      ],
      "metadata": {
        "id": "MFvoJvT6ACl6",
        "colab": {
          "base_uri": "https://localhost:8080/"
        },
        "outputId": "bc923892-b3fb-4a4a-b61b-219dfb3dfe77"
      },
      "id": "MFvoJvT6ACl6",
      "execution_count": 99,
      "outputs": [
        {
          "output_type": "stream",
          "name": "stderr",
          "text": [
            "100%|██████████| 3262/3262 [00:23<00:00, 137.62it/s]\n",
            "100%|██████████| 4432/4432 [00:33<00:00, 133.90it/s]\n"
          ]
        }
      ]
    },
    {
      "cell_type": "markdown",
      "source": [
        "##2) Load Sectors"
      ],
      "metadata": {
        "id": "zF_qkyADngN8"
      },
      "id": "zF_qkyADngN8"
    },
    {
      "cell_type": "code",
      "source": [
        "sectors=list(set(nyse['Industry'].values))\n",
        "pd.Series(sectors).sort_values().values"
      ],
      "metadata": {
        "colab": {
          "base_uri": "https://localhost:8080/"
        },
        "id": "gVUBNBLm3bvf",
        "outputId": "5afa03e7-0eb7-4a59-9cf6-3c43c382fd4e"
      },
      "id": "gVUBNBLm3bvf",
      "execution_count": 105,
      "outputs": [
        {
          "output_type": "execute_result",
          "data": {
            "text/plain": [
              "array(['가정용품', '개인, 가정 용품 및 서비스', '건설 및 엔지니어링', '건설장비 및 대형차, 기차, 배',\n",
              "       '건축 자재', '교육서비스', '기타 금융업', '다양한 금융서비스', '다양한 산업재 도매업', '다양한 소매업',\n",
              "       '레저 상품', '메탈&마이닝', '미디어 및 출판', '반도체 및 반도체 장비', '보험', '복합 기업',\n",
              "       '복합 유틸리티', '부동산 운영 관리', '비즈니스교육', '사무기기', '생명과학 및 메디컬 리서치', '석탄',\n",
              "       '섬유 및 의류', '소프트웨어 및 IT서비스', '수도 유틸리티', '식품 및 담배', '식품 및 약품소매',\n",
              "       '오일 및 가스', '오일 및 가스 장비 및 서비스', '용기 및 포장', '우라늄', '우주항공 및 국방',\n",
              "       '운송 인프라', '운송업', '은행', '음료', '자동차 및 자동차 부품', '재생에너지', '전기 유틸리티',\n",
              "       '전문 및 상업 서비스', '전문품 상점', '전자 장비 및 부품', '정부활동', '제약', '종이 및 임산물',\n",
              "       '주택 및 상업용 리츠', '주택건설', '천연가스 유틸리티', '커뮤니케이션 및 네트워킹',\n",
              "       '컴퓨터, 전화 및 가전제품', '통신 서비스', '통합 하드웨어 및 소프트웨어', '투자은행 및 서비스', '핀테크',\n",
              "       '학교', '헬스케어 업체 및 서비스', '헬스케어 장비 및 용품', '호텔 및 엔터테인먼트',\n",
              "       '화물 및 물류 서비스', '화학', nan], dtype=object)"
            ]
          },
          "metadata": {},
          "execution_count": 105
        }
      ]
    },
    {
      "cell_type": "markdown",
      "source": [
        "## 3) Search tickers"
      ],
      "metadata": {
        "id": "W9_ZPYNIF8-z"
      },
      "id": "W9_ZPYNIF8-z"
    },
    {
      "cell_type": "code",
      "source": [
        "class tickerSearch:\n",
        "    def __init__(self,index,sector):\n",
        "        if index=='NYSE':\n",
        "            data = dict(list(nyse.groupby('Industry')))\n",
        "        if index=='NASDAQ':\n",
        "            data = dict(list(ndq.groupby('Industry')))\n",
        "        tickers=list(data[sector]['Symbol'].values)\n",
        "        self.tickerFilt=[ticker for ticker in tqdm(tickers) if yf.download(ticker,progress=False).empty!=True]\n",
        "\n",
        "    def download(self):\n",
        "        tickers=self.tickerFilt\n",
        "        data=yf.download(tickers,start=startdate,end=enddate)\n",
        "        result=(data['Adj Close'].iloc[-1]/data['Adj Close'].iloc[0]-1).sort_values(ascending=False).dropna()\n",
        "        return result"
      ],
      "metadata": {
        "id": "XPEUYDYc78gk"
      },
      "id": "XPEUYDYc78gk",
      "execution_count": 106,
      "outputs": []
    },
    {
      "cell_type": "code",
      "source": [
        "tickerInit=tickerSearch('NYSE','컴퓨터, 전화 및 가전제품')\n",
        "searchResult=tickerSearch.download(tickerInit)"
      ],
      "metadata": {
        "id": "OWD30ye5__kW",
        "colab": {
          "base_uri": "https://localhost:8080/"
        },
        "outputId": "8a579754-e1b6-4e35-951b-315ac5ab5633"
      },
      "id": "OWD30ye5__kW",
      "execution_count": 107,
      "outputs": [
        {
          "output_type": "stream",
          "name": "stderr",
          "text": [
            "100%|██████████| 13/13 [00:04<00:00,  2.75it/s]"
          ]
        },
        {
          "output_type": "stream",
          "name": "stdout",
          "text": [
            "\r[                       0%                       ]"
          ]
        },
        {
          "output_type": "stream",
          "name": "stderr",
          "text": [
            "\n"
          ]
        },
        {
          "output_type": "stream",
          "name": "stdout",
          "text": [
            "[*********************100%***********************]  13 of 13 completed\n"
          ]
        }
      ]
    },
    {
      "cell_type": "code",
      "source": [
        "filterN=10\n",
        "searchTickers=searchResult.index[:filterN]"
      ],
      "metadata": {
        "id": "VBfgOCiU48Ka"
      },
      "id": "VBfgOCiU48Ka",
      "execution_count": 108,
      "outputs": []
    },
    {
      "cell_type": "markdown",
      "metadata": {
        "id": "f9f83418"
      },
      "source": [
        "## 4. Compare Financials"
      ],
      "id": "f9f83418"
    },
    {
      "cell_type": "code",
      "execution_count": 112,
      "metadata": {
        "id": "42f43818",
        "colab": {
          "base_uri": "https://localhost:8080/"
        },
        "outputId": "04416944-884d-4189-8ebc-23b89f651a03"
      },
      "outputs": [
        {
          "output_type": "stream",
          "name": "stderr",
          "text": [
            "\r  0%|          | 0/10 [00:30<?, ?it/s]\n"
          ]
        }
      ],
      "source": [
        "def financialCompare(command):\n",
        "    if command=='SEARCH':\n",
        "        tickers=tickerDict['SEARCH']\n",
        "    else:\n",
        "        tickers=tickerDict['WATCH']\n",
        "    def getFinancial(ticker):\n",
        "        def return_(info, key):\n",
        "            try: return info[key]\n",
        "            except KeyError: return \"NaN\"\n",
        "        info=yf.Ticker(ticker).info\n",
        "        infoCustom=[return_(info,\"trailingPE\"), return_(info,\"forwardPE\"), return_(info,\"priceToBook\"),\n",
        "                    return_(info,\"pegRatio\"), return_(info,\"returnOnEquity\"),return_(info,\"shortPercentOfFloat\"),\n",
        "                    return_(info,\"quickRatio\")]\n",
        "        return infoCustom\n",
        "\n",
        "    financial=[getFinancial(ticker) for ticker in tqdm(tickers)]\n",
        "    df=pd.DataFrame(data=financial,\n",
        "                    index=tickers,\n",
        "                    columns=['PER', 'FPER', 'PBR',\n",
        "                             'PEGR', 'ROE', 'short%', 'qRatio'])\n",
        "    df=df.sort_values('FPER',ascending=False)\n",
        "    return df"
      ],
      "id": "42f43818"
    },
    {
      "cell_type": "code",
      "source": [
        "tickerDict={\n",
        "    'SEARCH':searchTickers,\n",
        "    'WATCH':['CLFD','ON','ONTO','RELL','META','EQNR','STEM','ANDE','POST','UFPT']\n",
        "}"
      ],
      "metadata": {
        "id": "n6RVLFLCMZWK"
      },
      "id": "n6RVLFLCMZWK",
      "execution_count": 113,
      "outputs": []
    },
    {
      "cell_type": "code",
      "source": [
        "financialCompare('SEARCH')"
      ],
      "metadata": {
        "id": "XPjYrN7uNFf0"
      },
      "id": "XPjYrN7uNFf0",
      "execution_count": null,
      "outputs": []
    },
    {
      "cell_type": "code",
      "source": [
        "data=yf.download(tickerDict['WATCH'],start=startdate,end=enddate)\n",
        "result=(data['Adj Close'].iloc[-1]/data['Adj Close'].iloc[0]-1).sort_values(ascending=False).dropna()\n",
        "result"
      ],
      "metadata": {
        "colab": {
          "base_uri": "https://localhost:8080/"
        },
        "id": "AC83LgfKlI_N",
        "outputId": "1843fb35-a7f2-4dce-ed49-5f9c3ee4bd40"
      },
      "id": "AC83LgfKlI_N",
      "execution_count": 120,
      "outputs": [
        {
          "output_type": "stream",
          "name": "stdout",
          "text": [
            "[*********************100%***********************]  10 of 10 completed\n"
          ]
        },
        {
          "output_type": "execute_result",
          "data": {
            "text/plain": [
              "RELL    0.969671\n",
              "UFPT    0.671279\n",
              "EQNR    0.266211\n",
              "POST    0.228932\n",
              "ON     -0.055722\n",
              "ANDE   -0.069114\n",
              "CLFD   -0.086497\n",
              "ONTO   -0.265129\n",
              "STEM   -0.468815\n",
              "META   -0.588320\n",
              "dtype: float64"
            ]
          },
          "metadata": {},
          "execution_count": 120
        }
      ]
    },
    {
      "cell_type": "markdown",
      "metadata": {
        "id": "0e70f34f"
      },
      "source": [
        "#5. Visualize Financials"
      ],
      "id": "0e70f34f"
    },
    {
      "cell_type": "code",
      "source": [
        "def revenueGrowthTable(tickers):\n",
        "    revDict={}\n",
        "    for ticker in tqdm(tickers):\n",
        "        data=yf.Ticker(ticker).earnings\n",
        "        revGrowth=[(data.iloc[i+1,0]-data.iloc[i,0])/data.iloc[i,0]*100 for i in range(3)]\n",
        "        revDict[ticker]=revGrowth\n",
        "    result=pd.DataFrame(data=revDict)\n",
        "    return result"
      ],
      "metadata": {
        "id": "S15a52kTp5yc"
      },
      "id": "S15a52kTp5yc",
      "execution_count": 157,
      "outputs": []
    },
    {
      "cell_type": "code",
      "source": [
        "revenueGrowthTable(tickerDict['WATCH'])"
      ],
      "metadata": {
        "colab": {
          "base_uri": "https://localhost:8080/",
          "height": 161
        },
        "id": "ysbiQ0yu0y2N",
        "outputId": "cec61721-a1e8-4b2b-a5af-fbaee04a1b29"
      },
      "id": "ysbiQ0yu0y2N",
      "execution_count": 158,
      "outputs": [
        {
          "output_type": "stream",
          "name": "stderr",
          "text": [
            "100%|██████████| 10/10 [00:10<00:00,  1.05s/it]\n"
          ]
        },
        {
          "output_type": "execute_result",
          "data": {
            "text/plain": [
              "        CLFD         ON       ONTO       RELL       META       EQNR  \\\n",
              "0   9.455983  -6.131024  11.728954  -6.452968  26.610910 -19.915729   \n",
              "1  51.227505  -4.764494  81.923268  13.495362  21.596390 -27.273450   \n",
              "2  92.450002  28.254995  41.761846  26.949140  37.182574  93.963237   \n",
              "\n",
              "         STEM        ANDE       POST       UFPT  \n",
              "0  149.601820  162.799642 -17.075918   4.161613  \n",
              "1  106.853920    0.766776   5.724899  -9.581563  \n",
              "2  250.816647   56.387406  17.477463  15.022885  "
            ],
            "text/html": [
              "\n",
              "  <div id=\"df-f9e50c5b-6b7b-4286-94ff-4f7d7d1757cb\">\n",
              "    <div class=\"colab-df-container\">\n",
              "      <div>\n",
              "<style scoped>\n",
              "    .dataframe tbody tr th:only-of-type {\n",
              "        vertical-align: middle;\n",
              "    }\n",
              "\n",
              "    .dataframe tbody tr th {\n",
              "        vertical-align: top;\n",
              "    }\n",
              "\n",
              "    .dataframe thead th {\n",
              "        text-align: right;\n",
              "    }\n",
              "</style>\n",
              "<table border=\"1\" class=\"dataframe\">\n",
              "  <thead>\n",
              "    <tr style=\"text-align: right;\">\n",
              "      <th></th>\n",
              "      <th>CLFD</th>\n",
              "      <th>ON</th>\n",
              "      <th>ONTO</th>\n",
              "      <th>RELL</th>\n",
              "      <th>META</th>\n",
              "      <th>EQNR</th>\n",
              "      <th>STEM</th>\n",
              "      <th>ANDE</th>\n",
              "      <th>POST</th>\n",
              "      <th>UFPT</th>\n",
              "    </tr>\n",
              "  </thead>\n",
              "  <tbody>\n",
              "    <tr>\n",
              "      <th>0</th>\n",
              "      <td>9.455983</td>\n",
              "      <td>-6.131024</td>\n",
              "      <td>11.728954</td>\n",
              "      <td>-6.452968</td>\n",
              "      <td>26.610910</td>\n",
              "      <td>-19.915729</td>\n",
              "      <td>149.601820</td>\n",
              "      <td>162.799642</td>\n",
              "      <td>-17.075918</td>\n",
              "      <td>4.161613</td>\n",
              "    </tr>\n",
              "    <tr>\n",
              "      <th>1</th>\n",
              "      <td>51.227505</td>\n",
              "      <td>-4.764494</td>\n",
              "      <td>81.923268</td>\n",
              "      <td>13.495362</td>\n",
              "      <td>21.596390</td>\n",
              "      <td>-27.273450</td>\n",
              "      <td>106.853920</td>\n",
              "      <td>0.766776</td>\n",
              "      <td>5.724899</td>\n",
              "      <td>-9.581563</td>\n",
              "    </tr>\n",
              "    <tr>\n",
              "      <th>2</th>\n",
              "      <td>92.450002</td>\n",
              "      <td>28.254995</td>\n",
              "      <td>41.761846</td>\n",
              "      <td>26.949140</td>\n",
              "      <td>37.182574</td>\n",
              "      <td>93.963237</td>\n",
              "      <td>250.816647</td>\n",
              "      <td>56.387406</td>\n",
              "      <td>17.477463</td>\n",
              "      <td>15.022885</td>\n",
              "    </tr>\n",
              "  </tbody>\n",
              "</table>\n",
              "</div>\n",
              "      <button class=\"colab-df-convert\" onclick=\"convertToInteractive('df-f9e50c5b-6b7b-4286-94ff-4f7d7d1757cb')\"\n",
              "              title=\"Convert this dataframe to an interactive table.\"\n",
              "              style=\"display:none;\">\n",
              "        \n",
              "  <svg xmlns=\"http://www.w3.org/2000/svg\" height=\"24px\"viewBox=\"0 0 24 24\"\n",
              "       width=\"24px\">\n",
              "    <path d=\"M0 0h24v24H0V0z\" fill=\"none\"/>\n",
              "    <path d=\"M18.56 5.44l.94 2.06.94-2.06 2.06-.94-2.06-.94-.94-2.06-.94 2.06-2.06.94zm-11 1L8.5 8.5l.94-2.06 2.06-.94-2.06-.94L8.5 2.5l-.94 2.06-2.06.94zm10 10l.94 2.06.94-2.06 2.06-.94-2.06-.94-.94-2.06-.94 2.06-2.06.94z\"/><path d=\"M17.41 7.96l-1.37-1.37c-.4-.4-.92-.59-1.43-.59-.52 0-1.04.2-1.43.59L10.3 9.45l-7.72 7.72c-.78.78-.78 2.05 0 2.83L4 21.41c.39.39.9.59 1.41.59.51 0 1.02-.2 1.41-.59l7.78-7.78 2.81-2.81c.8-.78.8-2.07 0-2.86zM5.41 20L4 18.59l7.72-7.72 1.47 1.35L5.41 20z\"/>\n",
              "  </svg>\n",
              "      </button>\n",
              "      \n",
              "  <style>\n",
              "    .colab-df-container {\n",
              "      display:flex;\n",
              "      flex-wrap:wrap;\n",
              "      gap: 12px;\n",
              "    }\n",
              "\n",
              "    .colab-df-convert {\n",
              "      background-color: #E8F0FE;\n",
              "      border: none;\n",
              "      border-radius: 50%;\n",
              "      cursor: pointer;\n",
              "      display: none;\n",
              "      fill: #1967D2;\n",
              "      height: 32px;\n",
              "      padding: 0 0 0 0;\n",
              "      width: 32px;\n",
              "    }\n",
              "\n",
              "    .colab-df-convert:hover {\n",
              "      background-color: #E2EBFA;\n",
              "      box-shadow: 0px 1px 2px rgba(60, 64, 67, 0.3), 0px 1px 3px 1px rgba(60, 64, 67, 0.15);\n",
              "      fill: #174EA6;\n",
              "    }\n",
              "\n",
              "    [theme=dark] .colab-df-convert {\n",
              "      background-color: #3B4455;\n",
              "      fill: #D2E3FC;\n",
              "    }\n",
              "\n",
              "    [theme=dark] .colab-df-convert:hover {\n",
              "      background-color: #434B5C;\n",
              "      box-shadow: 0px 1px 3px 1px rgba(0, 0, 0, 0.15);\n",
              "      filter: drop-shadow(0px 1px 2px rgba(0, 0, 0, 0.3));\n",
              "      fill: #FFFFFF;\n",
              "    }\n",
              "  </style>\n",
              "\n",
              "      <script>\n",
              "        const buttonEl =\n",
              "          document.querySelector('#df-f9e50c5b-6b7b-4286-94ff-4f7d7d1757cb button.colab-df-convert');\n",
              "        buttonEl.style.display =\n",
              "          google.colab.kernel.accessAllowed ? 'block' : 'none';\n",
              "\n",
              "        async function convertToInteractive(key) {\n",
              "          const element = document.querySelector('#df-f9e50c5b-6b7b-4286-94ff-4f7d7d1757cb');\n",
              "          const dataTable =\n",
              "            await google.colab.kernel.invokeFunction('convertToInteractive',\n",
              "                                                     [key], {});\n",
              "          if (!dataTable) return;\n",
              "\n",
              "          const docLinkHtml = 'Like what you see? Visit the ' +\n",
              "            '<a target=\"_blank\" href=https://colab.research.google.com/notebooks/data_table.ipynb>data table notebook</a>'\n",
              "            + ' to learn more about interactive tables.';\n",
              "          element.innerHTML = '';\n",
              "          dataTable['output_type'] = 'display_data';\n",
              "          await google.colab.output.renderOutput(dataTable, element);\n",
              "          const docLink = document.createElement('div');\n",
              "          docLink.innerHTML = docLinkHtml;\n",
              "          element.appendChild(docLink);\n",
              "        }\n",
              "      </script>\n",
              "    </div>\n",
              "  </div>\n",
              "  "
            ]
          },
          "metadata": {},
          "execution_count": 158
        }
      ]
    },
    {
      "cell_type": "code",
      "execution_count": 159,
      "metadata": {
        "id": "ccdca3af"
      },
      "outputs": [],
      "source": [
        "def cashflowTable(tickers):\n",
        "    flowDict={}\n",
        "    for ticker in tqdm(tickers):\n",
        "        balance=yf.Ticker(ticker).cashflow.loc[['Operating Cash Flow','Financing Cash Flow','Investing Cash Flow']]\n",
        "        balance.index=['Operating','Financing','Investing']\n",
        "        balance=balance.transpose().sort_index()\n",
        "        flowDict[ticker]=balance\n",
        "    return flowDict"
      ],
      "id": "ccdca3af"
    },
    {
      "cell_type": "code",
      "source": [
        "cashflowTable(tickerDict['WATCH'])"
      ],
      "metadata": {
        "id": "Ngg9heAn_rtf",
        "colab": {
          "base_uri": "https://localhost:8080/"
        },
        "outputId": "0e197329-0a68-4998-8205-feafda25eb14"
      },
      "id": "Ngg9heAn_rtf",
      "execution_count": 156,
      "outputs": [
        {
          "output_type": "stream",
          "name": "stderr",
          "text": [
            "100%|██████████| 10/10 [00:11<00:00,  1.20s/it]\n"
          ]
        },
        {
          "output_type": "execute_result",
          "data": {
            "text/plain": [
              "{'CLFD':              Operating   Financing   Investing\n",
              " 2019-09-30  14732653.0   -236670.0 -12962039.0\n",
              " 2020-09-30   6655773.0   -246730.0    -41128.0\n",
              " 2021-09-30  10902839.0   -536435.0 -13599759.0\n",
              " 2022-09-30   1001000.0  10655000.0  -8197000.0,\n",
              " 'ON':                Operating    Financing     Investing\n",
              " 2019-12-31   694700000.0  623100000.0 -1510900000.0\n",
              " 2020-12-31   884300000.0 -244000000.0  -453600000.0\n",
              " 2021-12-31  1782000000.0 -569400000.0  -915100000.0,\n",
              " 'ONTO':               Operating   Financing    Investing\n",
              " 2019-12-31   18146000.0  -4198000.0    4104000.0\n",
              " 2020-12-31  105984000.0 -53702000.0  -48599000.0\n",
              " 2021-12-31  175281000.0   2670000.0 -141793000.0,\n",
              " 'RELL':             Operating  Financing   Investing\n",
              " 2019-05-31 -2563000.0 -2817000.0 -11874000.0\n",
              " 2020-05-31  1923000.0 -3208000.0  -9776000.0\n",
              " 2021-05-31   832000.0 -3014000.0  13368000.0\n",
              " 2022-05-31  1911000.0  -352000.0  -8120000.0,\n",
              " 'META':                 Operating      Financing      Investing\n",
              " 2019-12-31  36314000000.0  -7299000000.0 -19864000000.0\n",
              " 2020-12-31  38747000000.0 -10292000000.0 -30059000000.0\n",
              " 2021-12-31  57683000000.0 -50728000000.0  -7570000000.0,\n",
              " 'EQNR':                 Operating     Financing      Investing\n",
              " 2019-12-31  13749000000.0 -5496000000.0 -10594000000.0\n",
              " 2020-12-31  10386000000.0  2991000000.0 -12092000000.0\n",
              " 2021-12-31  28816000000.0 -4836000000.0 -16211000000.0,\n",
              " 'STEM':               Operating     Financing    Investing\n",
              " 2019-12-31  -29678000.0    67201000.0  -46358000.0\n",
              " 2020-12-31  -33671000.0    40294000.0  -12036000.0\n",
              " 2021-12-31 -101266000.0  1027095000.0 -185233000.0,\n",
              " 'ANDE':               Operating    Financing    Investing\n",
              " 2019-12-31  348562000.0    8707000.0 -325032000.0\n",
              " 2020-12-31  -74432000.0  136296000.0  -86756000.0\n",
              " 2021-12-31  -51050000.0 -248769000.0  487248000.0,\n",
              " 'POST':               Operating    Financing    Investing\n",
              " 2019-09-30  688000000.0 -652400000.0   26700000.0\n",
              " 2020-09-30  625600000.0 -272000000.0 -218500000.0\n",
              " 2021-09-30  588200000.0 -167500000.0 -793600000.0\n",
              " 2022-09-30  382600000.0 -386700000.0 -221000000.0,\n",
              " 'UFPT':              Operating   Financing    Investing\n",
              " 2019-12-31  31229000.0 -24950000.0   -5774000.0\n",
              " 2020-12-31  25037000.0   -285000.0   -4261000.0\n",
              " 2021-12-31  14293000.0  74049000.0 -101459000.0}"
            ]
          },
          "metadata": {},
          "execution_count": 156
        }
      ]
    },
    {
      "cell_type": "code",
      "source": [],
      "metadata": {
        "id": "Kjq09kdGmy4y"
      },
      "id": "Kjq09kdGmy4y",
      "execution_count": null,
      "outputs": []
    }
  ],
  "metadata": {
    "colab": {
      "provenance": [],
      "include_colab_link": true
    },
    "gpuClass": "standard",
    "kernelspec": {
      "display_name": "Python 3 (ipykernel)",
      "language": "python",
      "name": "python3"
    },
    "language_info": {
      "codemirror_mode": {
        "name": "ipython",
        "version": 3
      },
      "file_extension": ".py",
      "mimetype": "text/x-python",
      "name": "python",
      "nbconvert_exporter": "python",
      "pygments_lexer": "ipython3",
      "version": "3.9.7"
    }
  },
  "nbformat": 4,
  "nbformat_minor": 5
}