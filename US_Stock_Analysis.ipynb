{
 "cells": [
  {
   "cell_type": "markdown",
   "id": "5d71badf",
   "metadata": {},
   "source": [
    "# US Stock Analysis\n",
    "- 포트폴리오 시각화\n",
    "- 포트폴리오 수익률 분석\n",
    "- 종목 검색\n",
    "- 재무제표 비교"
   ]
  },
  {
   "cell_type": "markdown",
   "id": "e6c4ba99",
   "metadata": {},
   "source": [
    "# 함수 호출"
   ]
  },
  {
   "cell_type": "code",
   "execution_count": 2,
   "id": "4337ffbd",
   "metadata": {},
   "outputs": [],
   "source": [
    "import numpy as np\n",
    "import pandas as pd\n",
    "import yfinance as yf\n",
    "import FinanceDataReader as fdr\n",
    "import matplotlib.pyplot as plt\n",
    "import seaborn as sns\n",
    "yf.pdr_override()"
   ]
  },
  {
   "cell_type": "markdown",
   "id": "462d22f2",
   "metadata": {},
   "source": [
    "# 데이터 생성 및 시각화"
   ]
  },
  {
   "cell_type": "code",
   "execution_count": 142,
   "id": "523227d5",
   "metadata": {},
   "outputs": [],
   "source": [
    "# DATA INPUT \n",
    "name=['NEE','KO','UNH','TQQQ','GOOG','CLFD','STEM','LPLA','LLY']\n",
    "stocknum=[0.504387,\n",
    "          0.627861,\n",
    "          0.077527,\n",
    "          3,\n",
    "          0.316421,\n",
    "          0.163631,\n",
    "          2,\n",
    "          0.081727,\n",
    "          0.116271]\n",
    "price=[76.58,\n",
    "       59.47,\n",
    "       533.03,\n",
    "       36.06,\n",
    "       119.84,\n",
    "       115.87,\n",
    "       14.98,\n",
    "       231.99,\n",
    "       327.67]\n",
    "date='2022-08-21'"
   ]
  },
  {
   "cell_type": "code",
   "execution_count": 5,
   "id": "b656305c",
   "metadata": {},
   "outputs": [
    {
     "name": "stdout",
     "output_type": "stream",
     "text": [
      "      STOCKNUM   PRICE  HOLDQUANTITY\n",
      "CLFD  0.163631  115.87     18.959924\n",
      "GOOG  0.316421  119.84     37.919893\n",
      "KO    0.627861   59.47     37.338894\n",
      "LLY   0.116271  327.67     38.098519\n",
      "LPLA  0.081727  231.99     18.959847\n",
      "NEE   0.504387   76.58     38.625956\n",
      "STEM  2.000000   14.98     29.960000\n",
      "TQQQ  3.000000   36.06    108.180000\n",
      "UNH   0.077527  533.03     41.324217\n"
     ]
    },
    {
     "data": {
      "image/png": "[encoded data removed]",
      "text/plain": [
       "<Figure size 432x288 with 1 Axes>"
      ]
     },
     "metadata": {},
     "output_type": "display_data"
    }
   ],
   "source": [
    "# DATAFRAMING\n",
    "def portfolio_dataf(name,stocknum,price):\n",
    "    global pf\n",
    "    stocknum=np.mat(stocknum).T\n",
    "    price=np.mat(price).T\n",
    "    datas=np.array(np.hstack([stocknum,price]))\n",
    "    pf=pd.DataFrame(index=name,data=datas,columns=['STOCKNUM','PRICE'])\n",
    "    pf[\"HOLDQUANTITY\"]=pf[\"PRICE\"]*pf[\"STOCKNUM\"]\n",
    "    pf=pf.sort_index()\n",
    "    print(pf)\n",
    "    return(pf)\n",
    "portfolio_dataf(name,stocknum,price)\n",
    "\n",
    "def portfolio_plt(pf):\n",
    "    pf=pf.sort_values(\"HOLDQUANTITY\",ascending=False)\n",
    "    pf_plot=plt.pie(pf[\"HOLDQUANTITY\"],labels=pf.index,autopct='%.1f%%',startangle=90)    \n",
    "    return(plt.show(pf_plot))\n",
    "portfolio_plt(pf)"
   ]
  },
  {
   "cell_type": "code",
   "execution_count": 6,
   "id": "c71d8db8",
   "metadata": {
    "scrolled": true
   },
   "outputs": [
    {
     "data": {
      "text/plain": [
       "NEE     18.137897\n",
       "KO       7.112831\n",
       "TQQQ     5.324458\n",
       "STEM     4.005340\n",
       "GOOG     2.344794\n",
       "CLFD     2.045394\n",
       "UNH      2.001766\n",
       "LPLA    -1.900943\n",
       "LLY     -5.978580\n",
       "dtype: float64"
      ]
     },
     "execution_count": 6,
     "metadata": {},
     "output_type": "execute_result"
    }
   ],
   "source": [
    "def holds_dataframing(company,date): #수익률 데이터화\n",
    "    data_yf=yf.download(name,start='2022-01-01',end=date,progress=False)\n",
    "    data=data_yf['Adj Close'].iloc[-1]\n",
    "    data=(data/pf['PRICE']-1)*100\n",
    "    df=data.sort_values(ascending=False)\n",
    "    return(df)\n",
    "\n",
    "holds_dataframing(name,date) #회사 리스트,날짜"
   ]
  },
  {
   "cell_type": "markdown",
   "id": "1e8b9c29",
   "metadata": {},
   "source": [
    "# 종목 가져오기"
   ]
  },
  {
   "cell_type": "code",
   "execution_count": 139,
   "id": "387f7e62",
   "metadata": {},
   "outputs": [
    {
     "name": "stderr",
     "output_type": "stream",
     "text": [
      "100%|█████████████████████████████████████████████████████████████████████████████| 4626/4626 [00:11<00:00, 407.74it/s]\n"
     ]
    },
    {
     "name": "stdout",
     "output_type": "stream",
     "text": [
      "\n",
      "6 Failed downloads:\n",
      "- EIGI: No data found, symbol may be delisted\n",
      "- MTSL: No data found, symbol may be delisted\n",
      "- RHDM: No data found, symbol may be delisted\n",
      "- VRTU: No data found, symbol may be delisted\n",
      "- MVNR: No data found for this date range, symbol may be delisted\n",
      "- TLND: No data found, symbol may be delisted\n"
     ]
    },
    {
     "data": {
      "text/plain": [
       "MELI    272.890015\n",
       "MSTR    118.699997\n",
       "PCTY     83.720016\n",
       "TEAM     81.940002\n",
       "MDB      77.570007\n",
       "NFLX     66.290009\n",
       "SNPS     59.299988\n",
       "ADBE     59.000000\n",
       "ADSK     50.629990\n",
       "ADP      49.780014\n",
       "AZPN     40.170013\n",
       "CDNS     38.009995\n",
       "MANH     34.329994\n",
       "VRSN     34.139999\n",
       "ANSS     32.330002\n",
       "dtype: float64"
      ]
     },
     "execution_count": 139,
     "metadata": {},
     "output_type": "execute_result"
    }
   ],
   "source": [
    "# ['가정용품', '개인, 가정 용품 및 서비스', '건설 및 엔지니어링', '건설장비 및 대형차, 기차, 배',\n",
    "# '건축 자재', '교육서비스', '기타 금융업', '다양한 금융서비스', '다양한 산업재 도매업', '다양한 소매업',\n",
    "# '레저 상품', '메탈&마이닝', '미디어 및 출판', '반도체 및 반도체 장비', '보험', '복합 기업', '복합 유틸리티', '부동산 운영 관리',\n",
    "# '비즈니스교육', '사무기기', '생명과학 및 메디컬 리서치', '석유', '섬유 및 의류', '소프트웨어 및 IT서비스', '수도 유틸리티',\n",
    "# '식품 및 담배', '식품 및 약품소매', '오일 및 가스', '오일 및 가스 장비 및 서비스', '용기 및 포장', '우라늄', '우주항공 및 국방',\n",
    "# '운송 인프라', '운송업', '은행', '음료', '자동차 및 자동차 부품', '재생에너지', '전기 유틸리티', '전문 및 상업 서비스', '전문품 상점',\n",
    "# '전자 장비 및 부품', '제약', '종이 및 임산물', '주택 및 상업용 리츠', '주택건설', '천연가스 유틸리티', '커뮤니케이션 및 네트워킹',\n",
    "# '컴퓨터, 전화 및 가전제품', '통신 서비스', '통합 하드웨어 및 소프트웨어', '투자은행 및 서비스', '핀테크', '학교',\n",
    "# '헬스케어 업체 및 서비스', '헬스케어 장비 및 용품', '호텔 및 엔터테인먼트', '화물 및 물류 서비스', '화학']\n",
    "\n",
    "date_start='2022-07-01'\n",
    "def ticker_search(index,sector):\n",
    "    global tf\n",
    "    data_fdr = fdr.StockListing(index)\n",
    "    data_fdr = dict(list(data_fdr.groupby('Industry')))\n",
    "    tickers=list(data_fdr[sector]['Symbol'].values)\n",
    "    downloadf=yf.download(tickers,start=date_start,end=date,progress=False)\n",
    "    downloadf=downloadf['Adj Close'].iloc[-1]-downloadf['Adj Close'].iloc[0]\n",
    "    tf=pd.Series(downloadf)\n",
    "    tf=tf.sort_values(ascending=False)\n",
    "    tf.to_excel(excel_writer=\"./data/%s_PROFIT_%s.xlsx\"%(index,sector))\n",
    "    return(tf)\n",
    "ticker_search('NASDAQ','소프트웨어 및 IT서비스')\n",
    "# tf[:15]"
   ]
  },
  {
   "cell_type": "markdown",
   "id": "f9f83418",
   "metadata": {},
   "source": [
    "# 제무제표 비교"
   ]
  },
  {
   "cell_type": "code",
   "execution_count": 143,
   "id": "42f43818",
   "metadata": {},
   "outputs": [
    {
     "data": {
      "text/html": [
       "<div>\n",
       "<style scoped>\n",
       "    .dataframe tbody tr th:only-of-type {\n",
       "        vertical-align: middle;\n",
       "    }\n",
       "\n",
       "    .dataframe tbody tr th {\n",
       "        vertical-align: top;\n",
       "    }\n",
       "\n",
       "    .dataframe thead th {\n",
       "        text-align: right;\n",
       "    }\n",
       "</style>\n",
       "<table border=\"1\" class=\"dataframe\">\n",
       "  <thead>\n",
       "    <tr style=\"text-align: right;\">\n",
       "      <th></th>\n",
       "      <th>PER</th>\n",
       "      <th>FPER</th>\n",
       "      <th>PBR</th>\n",
       "      <th>PEGR</th>\n",
       "      <th>ROE</th>\n",
       "      <th>EPS</th>\n",
       "      <th>CPS</th>\n",
       "      <th>qRatio</th>\n",
       "    </tr>\n",
       "  </thead>\n",
       "  <tbody>\n",
       "    <tr>\n",
       "      <th>CLFD</th>\n",
       "      <td>41.706080</td>\n",
       "      <td>35.071022</td>\n",
       "      <td>12.435781</td>\n",
       "      <td>NaN</td>\n",
       "      <td>0.34121</td>\n",
       "      <td>16.076</td>\n",
       "      <td>1.313</td>\n",
       "      <td>1.619</td>\n",
       "    </tr>\n",
       "    <tr>\n",
       "      <th>LLY</th>\n",
       "      <td>51.478466</td>\n",
       "      <td>34.856370</td>\n",
       "      <td>35.907220</td>\n",
       "      <td>1.98</td>\n",
       "      <td>0.74290</td>\n",
       "      <td>32.163</td>\n",
       "      <td>2.911</td>\n",
       "      <td>0.664</td>\n",
       "    </tr>\n",
       "    <tr>\n",
       "      <th>NEE</th>\n",
       "      <td>69.007690</td>\n",
       "      <td>29.126623</td>\n",
       "      <td>4.837161</td>\n",
       "      <td>3.48</td>\n",
       "      <td>0.03738</td>\n",
       "      <td>8.905</td>\n",
       "      <td>1.456</td>\n",
       "      <td>0.298</td>\n",
       "    </tr>\n",
       "    <tr>\n",
       "      <th>UNH</th>\n",
       "      <td>28.647860</td>\n",
       "      <td>22.163300</td>\n",
       "      <td>7.040394</td>\n",
       "      <td>NaN</td>\n",
       "      <td>0.24253</td>\n",
       "      <td>326.129</td>\n",
       "      <td>29.896</td>\n",
       "      <td>0.667</td>\n",
       "    </tr>\n",
       "    <tr>\n",
       "      <th>GOOG</th>\n",
       "      <td>22.413662</td>\n",
       "      <td>20.088436</td>\n",
       "      <td>6.048131</td>\n",
       "      <td>1.73</td>\n",
       "      <td>0.29216</td>\n",
       "      <td>21.030</td>\n",
       "      <td>9.583</td>\n",
       "      <td>2.642</td>\n",
       "    </tr>\n",
       "    <tr>\n",
       "      <th>DECK</th>\n",
       "      <td>20.456875</td>\n",
       "      <td>15.273448</td>\n",
       "      <td>5.912819</td>\n",
       "      <td>1.14</td>\n",
       "      <td>0.31035</td>\n",
       "      <td>119.642</td>\n",
       "      <td>26.204</td>\n",
       "      <td>1.295</td>\n",
       "    </tr>\n",
       "    <tr>\n",
       "      <th>LPLA</th>\n",
       "      <td>36.250404</td>\n",
       "      <td>13.902726</td>\n",
       "      <td>9.726906</td>\n",
       "      <td>1.08</td>\n",
       "      <td>0.29740</td>\n",
       "      <td>102.690</td>\n",
       "      <td>9.293</td>\n",
       "      <td>2.936</td>\n",
       "    </tr>\n",
       "  </tbody>\n",
       "</table>\n",
       "</div>"
      ],
      "text/plain": [
       "            PER       FPER        PBR  PEGR      ROE      EPS     CPS  qRatio\n",
       "CLFD  41.706080  35.071022  12.435781   NaN  0.34121   16.076   1.313   1.619\n",
       "LLY   51.478466  34.856370  35.907220  1.98  0.74290   32.163   2.911   0.664\n",
       "NEE   69.007690  29.126623   4.837161  3.48  0.03738    8.905   1.456   0.298\n",
       "UNH   28.647860  22.163300   7.040394   NaN  0.24253  326.129  29.896   0.667\n",
       "GOOG  22.413662  20.088436   6.048131  1.73  0.29216   21.030   9.583   2.642\n",
       "DECK  20.456875  15.273448   5.912819  1.14  0.31035  119.642  26.204   1.295\n",
       "LPLA  36.250404  13.902726   9.726906  1.08  0.29740  102.690   9.293   2.936"
      ]
     },
     "execution_count": 143,
     "metadata": {},
     "output_type": "execute_result"
    }
   ],
   "source": [
    "holding = ['NEE','UNH','GOOG','CLFD','LPLA','LLY','DECK']\n",
    "view=['CLFD','LRCX']\n",
    "finan=[]\n",
    "\n",
    "def financial_shape(ticker):\n",
    "    ticker_yf=yf.Ticker(ticker)\n",
    "    info=ticker_yf.info\n",
    "    finan.append([info[\"trailingPE\"],\n",
    "                  info[\"forwardPE\"],\n",
    "                  info[\"priceToBook\"],\n",
    "                  info[\"pegRatio\"],\n",
    "                  info[\"returnOnEquity\"],\n",
    "                  info[\"revenuePerShare\"],\n",
    "                  info[\"totalCashPerShare\"],\n",
    "                  info[\"quickRatio\"]])\n",
    "# info[\"trailingPE\"],\n",
    "\n",
    "def financial_comparison(tickerlist):\n",
    "    for i in tickerlist: \n",
    "        financial_shape(i)\n",
    "    df=pd.DataFrame(data=finan,index=tickerlist,columns=['PER','FPER','PBR','PEGR','ROE','EPS','CPS','qRatio'])\n",
    "    df=df.sort_values('FPER',ascending=False)\n",
    "    return df\n",
    "\n",
    "financial_comparison(holding)\n"
   ]
  },
  {
   "cell_type": "markdown",
   "id": "0e70f34f",
   "metadata": {},
   "source": [
    "# 제무제표 시각화"
   ]
  },
  {
   "cell_type": "code",
   "execution_count": 130,
   "id": "ccdca3af",
   "metadata": {},
   "outputs": [
    {
     "data": {
      "image/png": "[encoded data removed]",
      "text/plain": [
       "<Figure size 432x288 with 2 Axes>"
      ]
     },
     "metadata": {
      "needs_background": "light"
     },
     "output_type": "display_data"
    }
   ],
   "source": [
    "def plt_balance(tickerlist):\n",
    "    fig, axs = plt.subplots(len(tickerlist))\n",
    "    for i in range(0,len(tickerlist)):\n",
    "        #get datas for balance sheet\n",
    "        ticker_yf=yf.Ticker(tickerlist[i])\n",
    "        balance=ticker_yf.balance_sheet.loc[[\"Total Assets\",\"Total Liab\",\"Total Stockholder Equity\",\"Cash\"]]\n",
    "        balance=balance.transpose().sort_index()\n",
    "        #plotting\n",
    "        sns.lineplot(data=balance,ax=axs[i],legend=False)\n",
    "        if i==0:\n",
    "            axs[i].legend([\"Total Assets\",\"Total Liab\",\"Total Stockholder Equity\",\"Cash\"],\n",
    "                          loc=2,\n",
    "                          prop={'size': 6})\n",
    "        axs[i].set_title(tickerlist[i])\n",
    "    plt.show()\n",
    "\n",
    "def plt_cashflow(tickerlist):\n",
    "    fig, axs = plt.subplots(len(tickerlist))\n",
    "    for i in range(0,len(tickerlist)):\n",
    "        #get datas for balance sheet\n",
    "        ticker_yf=yf.Ticker(tickerlist[i])\n",
    "        cashflow=ticker_yf.cashflow.loc[[\"Total Cash From Operating Activities\",\n",
    "                                         \"Total Cashflows From Investing Activities\",\n",
    "                                         \"Total Cash From Financing Activities\"]]\n",
    "        cashflow=cashflow.transpose().sort_index()\n",
    "        sns.lineplot(data=cashflow,ax=axs[i],legend=False)\n",
    "        if i==0:\n",
    "            axs[i].legend([\"Total Cash From Operating Activities\",\n",
    "                           \"Total Cashflows From Investing Activities\",\n",
    "                           \"Total Cash From Financing Activities\"],\n",
    "                          loc=2,\n",
    "                          prop={'size': 6})\n",
    "        axs[i].set_title(tickerlist[i])\n",
    "    plt.show()\n",
    "# plt_balance(view)\n",
    "plt_cashflow(view)"
   ]
  },
  {
   "cell_type": "code",
   "execution_count": null,
   "id": "677f1629",
   "metadata": {},
   "outputs": [],
   "source": []
  }
 ],
 "metadata": {
  "kernelspec": {
   "display_name": "Python 3 (ipykernel)",
   "language": "python",
   "name": "python3"
  },
  "language_info": {
   "codemirror_mode": {
    "name": "ipython",
    "version": 3
   },
   "file_extension": ".py",
   "mimetype": "text/x-python",
   "name": "python",
   "nbconvert_exporter": "python",
   "pygments_lexer": "ipython3",
   "version": "3.9.7"
  }
 },
 "nbformat": 4,
 "nbformat_minor": 5
}
