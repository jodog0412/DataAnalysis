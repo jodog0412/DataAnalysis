{
  "cells": [
    {
      "cell_type": "markdown",
      "metadata": {
        "id": "view-in-github",
        "colab_type": "text"
      },
      "source": [
        "<a href=\"https://colab.research.google.com/github/jodog0412/US-STOCKS-INVESTMENT-ASSISTANCE/blob/master/US_Stock_Analysis.ipynb\" target=\"_parent\"><img src=\"https://colab.research.google.com/assets/colab-badge.svg\" alt=\"Open In Colab\"/></a>"
      ]
    },
    {
      "cell_type": "markdown",
      "id": "5d71badf",
      "metadata": {
        "id": "5d71badf"
      },
      "source": [
        "# US Stock Analysis\n",
        "- 포트폴리오 시각화\n",
        "- 포트폴리오 수익률 분석\n",
        "- 종목 검색\n",
        "- 재무제표 비교\n",
        "- 재무제표 시각화"
      ]
    },
    {
      "cell_type": "code",
      "source": [
        "from google.colab import drive\n",
        "drive.mount('/content/drive')\n",
        "%cd /content/drive/MyDrive/Colab/US_STOCK_INVESTMENT_ASSISTANCE\n",
        "!ls"
      ],
      "metadata": {
        "colab": {
          "base_uri": "https://localhost:8080/"
        },
        "id": "_u9hQ9hZMEpQ",
        "outputId": "bccac194-5294-423b-96ee-431a08a1fd0e"
      },
      "id": "_u9hQ9hZMEpQ",
      "execution_count": 45,
      "outputs": [
        {
          "output_type": "stream",
          "name": "stdout",
          "text": [
            "Drive already mounted at /content/drive; to attempt to forcibly remount, call drive.mount(\"/content/drive\", force_remount=True).\n",
            "/content/drive/MyDrive/Colab/US_STOCK_INVESTMENT_ASSISTANCE\n",
            "US_STOCK_INVESTMENT_ASSISTANCE.ipynb\n"
          ]
        }
      ]
    },
    {
      "cell_type": "markdown",
      "id": "e6c4ba99",
      "metadata": {
        "id": "e6c4ba99"
      },
      "source": [
        "## IMPORT FUNCTION"
      ]
    },
    {
      "cell_type": "code",
      "execution_count": 46,
      "id": "4337ffbd",
      "metadata": {
        "colab": {
          "base_uri": "https://localhost:8080/"
        },
        "id": "4337ffbd",
        "outputId": "e0e853c5-4db8-4c00-e561-c4fc9de4d916"
      },
      "outputs": [
        {
          "output_type": "stream",
          "name": "stdout",
          "text": [
            "Looking in indexes: https://pypi.org/simple, https://us-python.pkg.dev/colab-wheels/public/simple/\n",
            "Requirement already satisfied: yfinance in /usr/local/lib/python3.7/dist-packages (0.1.74)\n",
            "Requirement already satisfied: numpy>=1.15 in /usr/local/lib/python3.7/dist-packages (from yfinance) (1.21.6)\n",
            "Requirement already satisfied: pandas>=0.24.0 in /usr/local/lib/python3.7/dist-packages (from yfinance) (1.3.5)\n",
            "Requirement already satisfied: requests>=2.26 in /usr/local/lib/python3.7/dist-packages (from yfinance) (2.28.1)\n",
            "Requirement already satisfied: lxml>=4.5.1 in /usr/local/lib/python3.7/dist-packages (from yfinance) (4.9.1)\n",
            "Requirement already satisfied: multitasking>=0.0.7 in /usr/local/lib/python3.7/dist-packages (from yfinance) (0.0.11)\n",
            "Requirement already satisfied: python-dateutil>=2.7.3 in /usr/local/lib/python3.7/dist-packages (from pandas>=0.24.0->yfinance) (2.8.2)\n",
            "Requirement already satisfied: pytz>=2017.3 in /usr/local/lib/python3.7/dist-packages (from pandas>=0.24.0->yfinance) (2022.2.1)\n",
            "Requirement already satisfied: six>=1.5 in /usr/local/lib/python3.7/dist-packages (from python-dateutil>=2.7.3->pandas>=0.24.0->yfinance) (1.15.0)\n",
            "Requirement already satisfied: urllib3<1.27,>=1.21.1 in /usr/local/lib/python3.7/dist-packages (from requests>=2.26->yfinance) (1.24.3)\n",
            "Requirement already satisfied: idna<4,>=2.5 in /usr/local/lib/python3.7/dist-packages (from requests>=2.26->yfinance) (2.10)\n",
            "Requirement already satisfied: charset-normalizer<3,>=2 in /usr/local/lib/python3.7/dist-packages (from requests>=2.26->yfinance) (2.1.1)\n",
            "Requirement already satisfied: certifi>=2017.4.17 in /usr/local/lib/python3.7/dist-packages (from requests>=2.26->yfinance) (2022.6.15)\n",
            "Looking in indexes: https://pypi.org/simple, https://us-python.pkg.dev/colab-wheels/public/simple/\n",
            "Requirement already satisfied: finance-datareader in /usr/local/lib/python3.7/dist-packages (0.9.34)\n",
            "Requirement already satisfied: pandas>=0.19.2 in /usr/local/lib/python3.7/dist-packages (from finance-datareader) (1.3.5)\n",
            "Requirement already satisfied: requests>=2.3.0 in /usr/local/lib/python3.7/dist-packages (from finance-datareader) (2.28.1)\n",
            "Requirement already satisfied: lxml in /usr/local/lib/python3.7/dist-packages (from finance-datareader) (4.9.1)\n",
            "Requirement already satisfied: tqdm in /usr/local/lib/python3.7/dist-packages (from finance-datareader) (4.64.0)\n",
            "Requirement already satisfied: requests-file in /usr/local/lib/python3.7/dist-packages (from finance-datareader) (1.5.1)\n",
            "Requirement already satisfied: python-dateutil>=2.7.3 in /usr/local/lib/python3.7/dist-packages (from pandas>=0.19.2->finance-datareader) (2.8.2)\n",
            "Requirement already satisfied: numpy>=1.17.3 in /usr/local/lib/python3.7/dist-packages (from pandas>=0.19.2->finance-datareader) (1.21.6)\n",
            "Requirement already satisfied: pytz>=2017.3 in /usr/local/lib/python3.7/dist-packages (from pandas>=0.19.2->finance-datareader) (2022.2.1)\n",
            "Requirement already satisfied: six>=1.5 in /usr/local/lib/python3.7/dist-packages (from python-dateutil>=2.7.3->pandas>=0.19.2->finance-datareader) (1.15.0)\n",
            "Requirement already satisfied: idna<4,>=2.5 in /usr/local/lib/python3.7/dist-packages (from requests>=2.3.0->finance-datareader) (2.10)\n",
            "Requirement already satisfied: certifi>=2017.4.17 in /usr/local/lib/python3.7/dist-packages (from requests>=2.3.0->finance-datareader) (2022.6.15)\n",
            "Requirement already satisfied: urllib3<1.27,>=1.21.1 in /usr/local/lib/python3.7/dist-packages (from requests>=2.3.0->finance-datareader) (1.24.3)\n",
            "Requirement already satisfied: charset-normalizer<3,>=2 in /usr/local/lib/python3.7/dist-packages (from requests>=2.3.0->finance-datareader) (2.1.1)\n"
          ]
        }
      ],
      "source": [
        "!pip install yfinance\n",
        "!pip install finance-datareader\n",
        "import numpy as np\n",
        "import pandas as pd\n",
        "import yfinance as yf\n",
        "import FinanceDataReader as fdr\n",
        "import matplotlib.pyplot as plt\n",
        "import seaborn as sns\n",
        "yf.pdr_override()"
      ]
    },
    {
      "cell_type": "markdown",
      "id": "462d22f2",
      "metadata": {
        "id": "462d22f2"
      },
      "source": [
        "## DATAFRAME"
      ]
    },
    {
      "cell_type": "code",
      "execution_count": 60,
      "id": "523227d5",
      "metadata": {
        "id": "523227d5"
      },
      "outputs": [],
      "source": [
        "# DATA\n",
        "name=['NEE','STEM','GOOG','EQNR','UNH','CLFD','LPLA','QID','SCHD','XYLD']\n",
        "tag=['BLUECHIP','STARTUP','BIGTECH','STARTUP','BLUECHIP',\n",
        "     'STARTUP','STARTUP','INVERSE','DIVIDEND','DIVIDEND']\n",
        "stocknum=np.array([0.504387, 2, 0.316421, 0.44367, 0.077527,\n",
        "          0.163631, 0.081727, 1.4477371, 0.731697, 1.026413])\n",
        "price=np.array([76.58, 14.98, 119.84, 41.62, 533.03,\n",
        "       115.87, 231.99, 22.07, 77.44, 43.15])\n",
        "date='2022-09-04'"
      ]
    },
    {
      "cell_type": "code",
      "execution_count": 72,
      "id": "b656305c",
      "metadata": {
        "colab": {
          "base_uri": "https://localhost:8080/",
          "height": 363
        },
        "id": "b656305c",
        "outputId": "4b6ac780-c9b1-4d53-d441-bf8f7921efb3"
      },
      "outputs": [
        {
          "output_type": "execute_result",
          "data": {
            "text/plain": [
              "           TAG   STOCKNUM   PRICE HOLDQUANTITY\n",
              "CLFD   STARTUP   0.163631  115.87      18.9599\n",
              "EQNR   STARTUP    0.44367   41.62      18.4655\n",
              "GOOG   BIGTECH   0.316421  119.84      37.9199\n",
              "LPLA   STARTUP   0.081727  231.99      18.9598\n",
              "NEE   BLUECHIP   0.504387   76.58       38.626\n",
              "QID    INVERSE  1.4477371   22.07      31.9516\n",
              "SCHD  DIVIDEND   0.731697   77.44      56.6626\n",
              "STEM   STARTUP        2.0   14.98        29.96\n",
              "UNH   BLUECHIP   0.077527  533.03      41.3242\n",
              "XYLD  DIVIDEND   1.026413   43.15      44.2897"
            ],
            "text/html": [
              "\n",
              "  <div id=\"df-d835046c-49a6-4c04-b926-d2c31eb7149d\">\n",
              "    <div class=\"colab-df-container\">\n",
              "      <div>\n",
              "<style scoped>\n",
              "    .dataframe tbody tr th:only-of-type {\n",
              "        vertical-align: middle;\n",
              "    }\n",
              "\n",
              "    .dataframe tbody tr th {\n",
              "        vertical-align: top;\n",
              "    }\n",
              "\n",
              "    .dataframe thead th {\n",
              "        text-align: right;\n",
              "    }\n",
              "</style>\n",
              "<table border=\"1\" class=\"dataframe\">\n",
              "  <thead>\n",
              "    <tr style=\"text-align: right;\">\n",
              "      <th></th>\n",
              "      <th>TAG</th>\n",
              "      <th>STOCKNUM</th>\n",
              "      <th>PRICE</th>\n",
              "      <th>HOLDQUANTITY</th>\n",
              "    </tr>\n",
              "  </thead>\n",
              "  <tbody>\n",
              "    <tr>\n",
              "      <th>CLFD</th>\n",
              "      <td>STARTUP</td>\n",
              "      <td>0.163631</td>\n",
              "      <td>115.87</td>\n",
              "      <td>18.9599</td>\n",
              "    </tr>\n",
              "    <tr>\n",
              "      <th>EQNR</th>\n",
              "      <td>STARTUP</td>\n",
              "      <td>0.44367</td>\n",
              "      <td>41.62</td>\n",
              "      <td>18.4655</td>\n",
              "    </tr>\n",
              "    <tr>\n",
              "      <th>GOOG</th>\n",
              "      <td>BIGTECH</td>\n",
              "      <td>0.316421</td>\n",
              "      <td>119.84</td>\n",
              "      <td>37.9199</td>\n",
              "    </tr>\n",
              "    <tr>\n",
              "      <th>LPLA</th>\n",
              "      <td>STARTUP</td>\n",
              "      <td>0.081727</td>\n",
              "      <td>231.99</td>\n",
              "      <td>18.9598</td>\n",
              "    </tr>\n",
              "    <tr>\n",
              "      <th>NEE</th>\n",
              "      <td>BLUECHIP</td>\n",
              "      <td>0.504387</td>\n",
              "      <td>76.58</td>\n",
              "      <td>38.626</td>\n",
              "    </tr>\n",
              "    <tr>\n",
              "      <th>QID</th>\n",
              "      <td>INVERSE</td>\n",
              "      <td>1.4477371</td>\n",
              "      <td>22.07</td>\n",
              "      <td>31.9516</td>\n",
              "    </tr>\n",
              "    <tr>\n",
              "      <th>SCHD</th>\n",
              "      <td>DIVIDEND</td>\n",
              "      <td>0.731697</td>\n",
              "      <td>77.44</td>\n",
              "      <td>56.6626</td>\n",
              "    </tr>\n",
              "    <tr>\n",
              "      <th>STEM</th>\n",
              "      <td>STARTUP</td>\n",
              "      <td>2.0</td>\n",
              "      <td>14.98</td>\n",
              "      <td>29.96</td>\n",
              "    </tr>\n",
              "    <tr>\n",
              "      <th>UNH</th>\n",
              "      <td>BLUECHIP</td>\n",
              "      <td>0.077527</td>\n",
              "      <td>533.03</td>\n",
              "      <td>41.3242</td>\n",
              "    </tr>\n",
              "    <tr>\n",
              "      <th>XYLD</th>\n",
              "      <td>DIVIDEND</td>\n",
              "      <td>1.026413</td>\n",
              "      <td>43.15</td>\n",
              "      <td>44.2897</td>\n",
              "    </tr>\n",
              "  </tbody>\n",
              "</table>\n",
              "</div>\n",
              "      <button class=\"colab-df-convert\" onclick=\"convertToInteractive('df-d835046c-49a6-4c04-b926-d2c31eb7149d')\"\n",
              "              title=\"Convert this dataframe to an interactive table.\"\n",
              "              style=\"display:none;\">\n",
              "        \n",
              "  <svg xmlns=\"http://www.w3.org/2000/svg\" height=\"24px\"viewBox=\"0 0 24 24\"\n",
              "       width=\"24px\">\n",
              "    <path d=\"M0 0h24v24H0V0z\" fill=\"none\"/>\n",
              "    <path d=\"M18.56 5.44l.94 2.06.94-2.06 2.06-.94-2.06-.94-.94-2.06-.94 2.06-2.06.94zm-11 1L8.5 8.5l.94-2.06 2.06-.94-2.06-.94L8.5 2.5l-.94 2.06-2.06.94zm10 10l.94 2.06.94-2.06 2.06-.94-2.06-.94-.94-2.06-.94 2.06-2.06.94z\"/><path d=\"M17.41 7.96l-1.37-1.37c-.4-.4-.92-.59-1.43-.59-.52 0-1.04.2-1.43.59L10.3 9.45l-7.72 7.72c-.78.78-.78 2.05 0 2.83L4 21.41c.39.39.9.59 1.41.59.51 0 1.02-.2 1.41-.59l7.78-7.78 2.81-2.81c.8-.78.8-2.07 0-2.86zM5.41 20L4 18.59l7.72-7.72 1.47 1.35L5.41 20z\"/>\n",
              "  </svg>\n",
              "      </button>\n",
              "      \n",
              "  <style>\n",
              "    .colab-df-container {\n",
              "      display:flex;\n",
              "      flex-wrap:wrap;\n",
              "      gap: 12px;\n",
              "    }\n",
              "\n",
              "    .colab-df-convert {\n",
              "      background-color: #E8F0FE;\n",
              "      border: none;\n",
              "      border-radius: 50%;\n",
              "      cursor: pointer;\n",
              "      display: none;\n",
              "      fill: #1967D2;\n",
              "      height: 32px;\n",
              "      padding: 0 0 0 0;\n",
              "      width: 32px;\n",
              "    }\n",
              "\n",
              "    .colab-df-convert:hover {\n",
              "      background-color: #E2EBFA;\n",
              "      box-shadow: 0px 1px 2px rgba(60, 64, 67, 0.3), 0px 1px 3px 1px rgba(60, 64, 67, 0.15);\n",
              "      fill: #174EA6;\n",
              "    }\n",
              "\n",
              "    [theme=dark] .colab-df-convert {\n",
              "      background-color: #3B4455;\n",
              "      fill: #D2E3FC;\n",
              "    }\n",
              "\n",
              "    [theme=dark] .colab-df-convert:hover {\n",
              "      background-color: #434B5C;\n",
              "      box-shadow: 0px 1px 3px 1px rgba(0, 0, 0, 0.15);\n",
              "      filter: drop-shadow(0px 1px 2px rgba(0, 0, 0, 0.3));\n",
              "      fill: #FFFFFF;\n",
              "    }\n",
              "  </style>\n",
              "\n",
              "      <script>\n",
              "        const buttonEl =\n",
              "          document.querySelector('#df-d835046c-49a6-4c04-b926-d2c31eb7149d button.colab-df-convert');\n",
              "        buttonEl.style.display =\n",
              "          google.colab.kernel.accessAllowed ? 'block' : 'none';\n",
              "\n",
              "        async function convertToInteractive(key) {\n",
              "          const element = document.querySelector('#df-d835046c-49a6-4c04-b926-d2c31eb7149d');\n",
              "          const dataTable =\n",
              "            await google.colab.kernel.invokeFunction('convertToInteractive',\n",
              "                                                     [key], {});\n",
              "          if (!dataTable) return;\n",
              "\n",
              "          const docLinkHtml = 'Like what you see? Visit the ' +\n",
              "            '<a target=\"_blank\" href=https://colab.research.google.com/notebooks/data_table.ipynb>data table notebook</a>'\n",
              "            + ' to learn more about interactive tables.';\n",
              "          element.innerHTML = '';\n",
              "          dataTable['output_type'] = 'display_data';\n",
              "          await google.colab.output.renderOutput(dataTable, element);\n",
              "          const docLink = document.createElement('div');\n",
              "          docLink.innerHTML = docLinkHtml;\n",
              "          element.appendChild(docLink);\n",
              "        }\n",
              "      </script>\n",
              "    </div>\n",
              "  </div>\n",
              "  "
            ]
          },
          "metadata": {},
          "execution_count": 72
        }
      ],
      "source": [
        "def portfolio_dataframe(name,tag,stocknum,price):\n",
        "    global pf\n",
        "    hold_qntity=np.round(stocknum*price,4)\n",
        "    datas=np.vstack([tag,stocknum,price,hold_qntity])\n",
        "    pf=pd.DataFrame(data=datas,\n",
        "                    index=['TAG','STOCKNUM','PRICE','HOLDQUANTITY'],\n",
        "                    columns=name)\n",
        "    pf=pf.T.sort_index()\n",
        "    return(pf)\n",
        "portfolio_dataframe(name,tag,stocknum,price)"
      ]
    },
    {
      "cell_type": "markdown",
      "id": "7ca979d5",
      "metadata": {
        "id": "7ca979d5"
      },
      "source": [
        "## DATA VISUALIZATION"
      ]
    },
    {
      "cell_type": "code",
      "execution_count": 62,
      "id": "f0f73229",
      "metadata": {
        "colab": {
          "base_uri": "https://localhost:8080/",
          "height": 248
        },
        "id": "f0f73229",
        "outputId": "17112a65-32e9-4d90-f06d-84756bedd01f"
      },
      "outputs": [
        {
          "output_type": "display_data",
          "data": {
            "text/plain": [
              "<Figure size 432x288 with 1 Axes>"
            ],
            "image/png": "[encoded data removed]"
          },
          "metadata": {}
        }
      ],
      "source": [
        "def portfolio_plt(pf):\n",
        "    pf=pf.sort_values(\"HOLDQUANTITY\",ascending=False)\n",
        "    pf_plot=plt.pie(pf[\"HOLDQUANTITY\"],labels=pf.index,autopct='%.1f%%',startangle=90)    \n",
        "    return(plt.show(pf_plot))\n",
        "portfolio_plt(pf) "
      ]
    },
    {
      "cell_type": "code",
      "execution_count": 66,
      "id": "c71d8db8",
      "metadata": {
        "scrolled": true,
        "colab": {
          "base_uri": "https://localhost:8080/",
          "height": 137
        },
        "id": "c71d8db8",
        "outputId": "7d0cf059-af51-4172-cf59-eb836d2dd056"
      },
      "outputs": [
        {
          "output_type": "error",
          "ename": "SyntaxError",
          "evalue": "ignored",
          "traceback": [
            "\u001b[0;36m  File \u001b[0;32m\"<ipython-input-66-46c38555696d>\"\u001b[0;36m, line \u001b[0;32m4\u001b[0m\n\u001b[0;31m    data=(recent_price/pf['PRICE']-1)*100)\u001b[0m\n\u001b[0m                                         ^\u001b[0m\n\u001b[0;31mSyntaxError\u001b[0m\u001b[0;31m:\u001b[0m invalid syntax\n"
          ]
        }
      ],
      "source": [
        "def holds_dataframing(company,date): #수익률 데이터화\n",
        "    data_yf=yf.download(name,start='2022-01-01',end=date,progress=False)\n",
        "    recent_price=data_yf['Adj Close'].iloc[-1]\n",
        "    data=(recent_price/pf['PRICE']-1)*100)\n",
        "    df=data.sort_values(ascending=False)\n",
        "    return(df)\n",
        "\n",
        "holds_dataframing(name,date) #회사 리스트,날짜"
      ]
    },
    {
      "cell_type": "markdown",
      "id": "1e8b9c29",
      "metadata": {
        "id": "1e8b9c29"
      },
      "source": [
        "## TICKER SEARCH"
      ]
    },
    {
      "cell_type": "code",
      "execution_count": 69,
      "id": "387f7e62",
      "metadata": {
        "colab": {
          "base_uri": "https://localhost:8080/"
        },
        "id": "387f7e62",
        "outputId": "cd08bedb-703d-4483-a516-a10910e64dda"
      },
      "outputs": [
        {
          "output_type": "stream",
          "name": "stderr",
          "text": [
            "100%|██████████| 3396/3396 [00:11<00:00, 295.87it/s]\n"
          ]
        },
        {
          "output_type": "execute_result",
          "data": {
            "text/plain": [
              "MSI      7.14\n",
              "UI       6.66\n",
              "VVNT     1.75\n",
              "AVYA     0.89\n",
              "JNPR     0.23\n",
              "ADT     -0.04\n",
              "EGHT    -0.29\n",
              "NOK     -0.30\n",
              "ANET    -0.31\n",
              "BKSY    -0.49\n",
              "CALX    -0.75\n",
              "AEVA    -1.11\n",
              "BDC     -1.32\n",
              "MAXR    -4.89\n",
              "CIEN    -7.52\n",
              "GRMN    -9.76\n",
              "ALLE   -10.48\n",
              "dtype: float64"
            ]
          },
          "metadata": {},
          "execution_count": 69
        }
      ],
      "source": [
        "# ['가정용품', '개인, 가정 용품 및 서비스', '건설 및 엔지니어링', '건설장비 및 대형차, 기차, 배',\n",
        "# '건축 자재', '교육서비스', '기타 금융업', '다양한 금융서비스', '다양한 산업재 도매업', '다양한 소매업',\n",
        "# '레저 상품', '메탈&마이닝', '미디어 및 출판', '반도체 및 반도체 장비', '보험', '복합 기업', '복합 유틸리티', '부동산 운영 관리',\n",
        "# '비즈니스교육', '사무기기', '생명과학 및 메디컬 리서치', '석유', '섬유 및 의류', '소프트웨어 및 IT서비스', '수도 유틸리티',\n",
        "# '식품 및 담배', '식품 및 약품소매', '오일 및 가스', '오일 및 가스 장비 및 서비스', '용기 및 포장', '우라늄', '우주항공 및 국방',\n",
        "# '운송 인프라', '운송업', '은행', '음료', '자동차 및 자동차 부품', '재생에너지', '전기 유틸리티', '전문 및 상업 서비스', '전문품 상점',\n",
        "# '전자 장비 및 부품', '제약', '종이 및 임산물', '주택 및 상업용 리츠', '주택건설', '천연가스 유틸리티', '커뮤니케이션 및 네트워킹',\n",
        "# '컴퓨터, 전화 및 가전제품', '통신 서비스', '통합 하드웨어 및 소프트웨어', '투자은행 및 서비스', '핀테크', '학교',\n",
        "# '헬스케어 업체 및 서비스', '헬스케어 장비 및 용품', '호텔 및 엔터테인먼트', '화물 및 물류 서비스', '화학']\n",
        "\n",
        "date_start='2022-08-01'\n",
        "def ticker_search(index,sector):\n",
        "    global tf\n",
        "    data_fdr = fdr.StockListing(index)\n",
        "    data_fdr = dict(list(data_fdr.groupby('Industry')))\n",
        "    tickers=list(data_fdr[sector]['Symbol'].values)\n",
        "    downloadf=yf.download(tickers,start=date_start,end=date,progress=False)\n",
        "    downloadf=downloadf['Adj Close'].iloc[-1]-downloadf['Adj Close'].iloc[0]\n",
        "    tf=pd.Series(downloadf)\n",
        "    tf=tf.sort_values(ascending=False)\n",
        "    # tf.to_excel(excel_writer=\"./data/%s_PROFIT_%s.xlsx\"%(index,sector))\n",
        "    return(tf)\n",
        "ticker_search('NYSE','커뮤니케이션 및 네트워킹')"
      ]
    },
    {
      "cell_type": "code",
      "source": [
        "tf[:15]"
      ],
      "metadata": {
        "colab": {
          "base_uri": "https://localhost:8080/"
        },
        "id": "Z1mVTBAsQ3za",
        "outputId": "35903862-37cf-4777-dcce-3c574a964e2e"
      },
      "id": "Z1mVTBAsQ3za",
      "execution_count": 68,
      "outputs": [
        {
          "output_type": "execute_result",
          "data": {
            "text/plain": [
              "BHC     1.86\n",
              "RDY     0.48\n",
              "LCI    -0.07\n",
              "GLS    -0.22\n",
              "TEVA   -0.64\n",
              "TAK    -0.74\n",
              "AMRX   -1.34\n",
              "MRK    -2.30\n",
              "OGN    -3.05\n",
              "ABBV   -3.94\n",
              "TARO   -4.03\n",
              "ELAN   -4.25\n",
              "PFE    -4.91\n",
              "BMY    -5.01\n",
              "PRGO   -5.59\n",
              "dtype: float64"
            ]
          },
          "metadata": {},
          "execution_count": 68
        }
      ]
    },
    {
      "cell_type": "markdown",
      "id": "f9f83418",
      "metadata": {
        "id": "f9f83418"
      },
      "source": [
        "## FINANCIALS COMPARISON"
      ]
    },
    {
      "cell_type": "code",
      "execution_count": 71,
      "id": "42f43818",
      "metadata": {
        "colab": {
          "base_uri": "https://localhost:8080/",
          "height": 175
        },
        "id": "42f43818",
        "outputId": "06a3ceb7-ea8d-4fc3-cbdc-97aef8613183"
      },
      "outputs": [
        {
          "output_type": "execute_result",
          "data": {
            "text/plain": [
              "       PER   FPER   PBR  PEGR  ROE  short%  qRatio\n",
              "CLFD 33.27  28.35 10.05   NaN 0.34    0.07    1.62\n",
              "LPLA 35.42  13.20  9.50  1.02 0.30    0.03    2.94\n",
              "EQNR  7.73   8.27  3.01   NaN 0.42     NaN    1.29\n",
              "STEM 13.00 -44.28  3.62   NaN 0.05    0.09    1.91"
            ],
            "text/html": [
              "\n",
              "  <div id=\"df-3f4a89a9-2044-4f81-8d2e-72767fe28a07\">\n",
              "    <div class=\"colab-df-container\">\n",
              "      <div>\n",
              "<style scoped>\n",
              "    .dataframe tbody tr th:only-of-type {\n",
              "        vertical-align: middle;\n",
              "    }\n",
              "\n",
              "    .dataframe tbody tr th {\n",
              "        vertical-align: top;\n",
              "    }\n",
              "\n",
              "    .dataframe thead th {\n",
              "        text-align: right;\n",
              "    }\n",
              "</style>\n",
              "<table border=\"1\" class=\"dataframe\">\n",
              "  <thead>\n",
              "    <tr style=\"text-align: right;\">\n",
              "      <th></th>\n",
              "      <th>PER</th>\n",
              "      <th>FPER</th>\n",
              "      <th>PBR</th>\n",
              "      <th>PEGR</th>\n",
              "      <th>ROE</th>\n",
              "      <th>short%</th>\n",
              "      <th>qRatio</th>\n",
              "    </tr>\n",
              "  </thead>\n",
              "  <tbody>\n",
              "    <tr>\n",
              "      <th>CLFD</th>\n",
              "      <td>33.27</td>\n",
              "      <td>28.35</td>\n",
              "      <td>10.05</td>\n",
              "      <td>NaN</td>\n",
              "      <td>0.34</td>\n",
              "      <td>0.07</td>\n",
              "      <td>1.62</td>\n",
              "    </tr>\n",
              "    <tr>\n",
              "      <th>LPLA</th>\n",
              "      <td>35.42</td>\n",
              "      <td>13.20</td>\n",
              "      <td>9.50</td>\n",
              "      <td>1.02</td>\n",
              "      <td>0.30</td>\n",
              "      <td>0.03</td>\n",
              "      <td>2.94</td>\n",
              "    </tr>\n",
              "    <tr>\n",
              "      <th>EQNR</th>\n",
              "      <td>7.73</td>\n",
              "      <td>8.27</td>\n",
              "      <td>3.01</td>\n",
              "      <td>NaN</td>\n",
              "      <td>0.42</td>\n",
              "      <td>NaN</td>\n",
              "      <td>1.29</td>\n",
              "    </tr>\n",
              "    <tr>\n",
              "      <th>STEM</th>\n",
              "      <td>13.00</td>\n",
              "      <td>-44.28</td>\n",
              "      <td>3.62</td>\n",
              "      <td>NaN</td>\n",
              "      <td>0.05</td>\n",
              "      <td>0.09</td>\n",
              "      <td>1.91</td>\n",
              "    </tr>\n",
              "  </tbody>\n",
              "</table>\n",
              "</div>\n",
              "      <button class=\"colab-df-convert\" onclick=\"convertToInteractive('df-3f4a89a9-2044-4f81-8d2e-72767fe28a07')\"\n",
              "              title=\"Convert this dataframe to an interactive table.\"\n",
              "              style=\"display:none;\">\n",
              "        \n",
              "  <svg xmlns=\"http://www.w3.org/2000/svg\" height=\"24px\"viewBox=\"0 0 24 24\"\n",
              "       width=\"24px\">\n",
              "    <path d=\"M0 0h24v24H0V0z\" fill=\"none\"/>\n",
              "    <path d=\"M18.56 5.44l.94 2.06.94-2.06 2.06-.94-2.06-.94-.94-2.06-.94 2.06-2.06.94zm-11 1L8.5 8.5l.94-2.06 2.06-.94-2.06-.94L8.5 2.5l-.94 2.06-2.06.94zm10 10l.94 2.06.94-2.06 2.06-.94-2.06-.94-.94-2.06-.94 2.06-2.06.94z\"/><path d=\"M17.41 7.96l-1.37-1.37c-.4-.4-.92-.59-1.43-.59-.52 0-1.04.2-1.43.59L10.3 9.45l-7.72 7.72c-.78.78-.78 2.05 0 2.83L4 21.41c.39.39.9.59 1.41.59.51 0 1.02-.2 1.41-.59l7.78-7.78 2.81-2.81c.8-.78.8-2.07 0-2.86zM5.41 20L4 18.59l7.72-7.72 1.47 1.35L5.41 20z\"/>\n",
              "  </svg>\n",
              "      </button>\n",
              "      \n",
              "  <style>\n",
              "    .colab-df-container {\n",
              "      display:flex;\n",
              "      flex-wrap:wrap;\n",
              "      gap: 12px;\n",
              "    }\n",
              "\n",
              "    .colab-df-convert {\n",
              "      background-color: #E8F0FE;\n",
              "      border: none;\n",
              "      border-radius: 50%;\n",
              "      cursor: pointer;\n",
              "      display: none;\n",
              "      fill: #1967D2;\n",
              "      height: 32px;\n",
              "      padding: 0 0 0 0;\n",
              "      width: 32px;\n",
              "    }\n",
              "\n",
              "    .colab-df-convert:hover {\n",
              "      background-color: #E2EBFA;\n",
              "      box-shadow: 0px 1px 2px rgba(60, 64, 67, 0.3), 0px 1px 3px 1px rgba(60, 64, 67, 0.15);\n",
              "      fill: #174EA6;\n",
              "    }\n",
              "\n",
              "    [theme=dark] .colab-df-convert {\n",
              "      background-color: #3B4455;\n",
              "      fill: #D2E3FC;\n",
              "    }\n",
              "\n",
              "    [theme=dark] .colab-df-convert:hover {\n",
              "      background-color: #434B5C;\n",
              "      box-shadow: 0px 1px 3px 1px rgba(0, 0, 0, 0.15);\n",
              "      filter: drop-shadow(0px 1px 2px rgba(0, 0, 0, 0.3));\n",
              "      fill: #FFFFFF;\n",
              "    }\n",
              "  </style>\n",
              "\n",
              "      <script>\n",
              "        const buttonEl =\n",
              "          document.querySelector('#df-3f4a89a9-2044-4f81-8d2e-72767fe28a07 button.colab-df-convert');\n",
              "        buttonEl.style.display =\n",
              "          google.colab.kernel.accessAllowed ? 'block' : 'none';\n",
              "\n",
              "        async function convertToInteractive(key) {\n",
              "          const element = document.querySelector('#df-3f4a89a9-2044-4f81-8d2e-72767fe28a07');\n",
              "          const dataTable =\n",
              "            await google.colab.kernel.invokeFunction('convertToInteractive',\n",
              "                                                     [key], {});\n",
              "          if (!dataTable) return;\n",
              "\n",
              "          const docLinkHtml = 'Like what you see? Visit the ' +\n",
              "            '<a target=\"_blank\" href=https://colab.research.google.com/notebooks/data_table.ipynb>data table notebook</a>'\n",
              "            + ' to learn more about interactive tables.';\n",
              "          element.innerHTML = '';\n",
              "          dataTable['output_type'] = 'display_data';\n",
              "          await google.colab.output.renderOutput(dataTable, element);\n",
              "          const docLink = document.createElement('div');\n",
              "          docLink.innerHTML = docLinkHtml;\n",
              "          element.appendChild(docLink);\n",
              "        }\n",
              "      </script>\n",
              "    </div>\n",
              "  </div>\n",
              "  "
            ]
          },
          "metadata": {},
          "execution_count": 71
        }
      ],
      "source": [
        "holding=['NEE','STEM','GOOG','EQNR','UNH','CLFD','LPLA']\n",
        "view=['EQNR','LPLA','STEM','CLFD']\n",
        "finan=[]\n",
        "\n",
        "def financial_shape(ticker):\n",
        "    ticker_yf=yf.Ticker(ticker)\n",
        "    info=ticker_yf.info\n",
        "    if \"trailingPE\" in info:\n",
        "        finan.append([info[\"trailingPE\"], info[\"forwardPE\"], info[\"priceToBook\"],\n",
        "                      info[\"pegRatio\"], info[\"returnOnEquity\"],info[\"shortPercentOfFloat\"],\n",
        "                      info[\"quickRatio\"]])\n",
        "    else:\n",
        "        finan.append([\"NaN\", info[\"forwardPE\"], info[\"priceToBook\"],\n",
        "                      info[\"pegRatio\"], info[\"returnOnEquity\"], info[\"shortPercentOfFloat\"],\n",
        "                      info[\"quickRatio\"]])\n",
        "\n",
        "def financial_comparison(tickerlist):\n",
        "    for i in tickerlist: \n",
        "        financial_shape(i)\n",
        "    df=pd.DataFrame(data=finan,\n",
        "                    index=tickerlist,\n",
        "                    columns=['PER', 'FPER', 'PBR',\n",
        "                             'PEGR', 'ROE', 'short%', 'qRatio'])\n",
        "    df=df.sort_values('FPER',ascending=False)\n",
        "    return df\n",
        "\n",
        "financial_comparison(view)\n"
      ]
    },
    {
      "cell_type": "markdown",
      "id": "0e70f34f",
      "metadata": {
        "id": "0e70f34f"
      },
      "source": [
        "## FINANCIALS VISUALIZATION"
      ]
    },
    {
      "cell_type": "code",
      "execution_count": null,
      "id": "ccdca3af",
      "metadata": {
        "colab": {
          "base_uri": "https://localhost:8080/",
          "height": 281
        },
        "id": "ccdca3af",
        "outputId": "ec19ad65-ebd2-4414-838b-f102d9c22064"
      },
      "outputs": [
        {
          "output_type": "display_data",
          "data": {
            "text/plain": [
              "<Figure size 432x288 with 2 Axes>"
            ],
            "image/png": "[encoded data removed]"
          },
          "metadata": {
            "needs_background": "light"
          }
        }
      ],
      "source": [
        "def plt_earning(tickerlist):\n",
        "    fig, axs = plt.subplots(len(tickerlist))\n",
        "    for i in range(0,len(tickerlist)):\n",
        "        #get datas for balance sheet\n",
        "        ticker_yf=yf.Ticker(tickerlist[i])\n",
        "        earning=ticker_yf.earnings\n",
        "        #plotting\n",
        "        sns.lineplot(data=earning,ax=axs[i],legend=False)\n",
        "        if i==0:\n",
        "            axs[i].legend([\"Revenue\",\"Earnings\"],\n",
        "                          loc=2,\n",
        "                          prop={'size': 6})\n",
        "        axs[i].set_title(tickerlist[i])\n",
        "    plt.show()\n",
        "\n",
        "def plt_balance(tickerlist):\n",
        "    fig, axs = plt.subplots(len(tickerlist))\n",
        "    for i in range(0,len(tickerlist)):\n",
        "        #get datas for balance sheet\n",
        "        ticker_yf=yf.Ticker(tickerlist[i])\n",
        "        balance=ticker_yf.balance_sheet.loc[[\"Total Assets\",\"Total Liab\",\"Total Stockholder Equity\",\"Cash\"]]\n",
        "        balance=balance.transpose().sort_index()\n",
        "        #plotting\n",
        "        sns.lineplot(data=balance,ax=axs[i],legend=False)\n",
        "        if i==0:\n",
        "            axs[i].legend([\"Total Assets\",\"Total Liab\",\"Total Stockholder Equity\",\"Cash\"],\n",
        "                          loc=2,\n",
        "                          prop={'size': 6})\n",
        "        axs[i].set_title(tickerlist[i])\n",
        "    plt.show()\n",
        "\n",
        "def plt_cashflow(tickerlist):\n",
        "    fig, axs = plt.subplots(len(tickerlist))\n",
        "    for i in range(0,len(tickerlist)):\n",
        "        #get datas for balance sheet\n",
        "        ticker_yf=yf.Ticker(tickerlist[i])\n",
        "        cashflow=ticker_yf.cashflow.loc[[\"Total Cash From Operating Activities\",\n",
        "                                         \"Total Cashflows From Investing Activities\",\n",
        "                                         \"Total Cash From Financing Activities\"]]\n",
        "        cashflow=cashflow.transpose().sort_index()\n",
        "        sns.lineplot(data=cashflow,ax=axs[i],legend=False)\n",
        "        if i==0:\n",
        "            axs[i].legend([\"Total Cash From Operating Activities\",\n",
        "                           \"Total Cashflows From Investing Activities\",\n",
        "                           \"Total Cash From Financing Activities\"],\n",
        "                          loc=2,\n",
        "                          prop={'size': 6})\n",
        "        axs[i].set_title(tickerlist[i])\n",
        "    plt.show()\n",
        "\n",
        "# plt_earning(view)\n",
        "plt_balance(view)\n",
        "# plt_cashflow(view)"
      ]
    },
    {
      "cell_type": "code",
      "execution_count": null,
      "id": "677f1629",
      "metadata": {
        "id": "677f1629"
      },
      "outputs": [],
      "source": []
    }
  ],
  "metadata": {
    "kernelspec": {
      "display_name": "Python 3 (ipykernel)",
      "language": "python",
      "name": "python3"
    },
    "language_info": {
      "codemirror_mode": {
        "name": "ipython",
        "version": 3
      },
      "file_extension": ".py",
      "mimetype": "text/x-python",
      "name": "python",
      "nbconvert_exporter": "python",
      "pygments_lexer": "ipython3",
      "version": "3.9.7"
    },
    "colab": {
      "provenance": [],
      "collapsed_sections": [],
      "include_colab_link": true
    },
    "gpuClass": "standard"
  },
  "nbformat": 4,
  "nbformat_minor": 5
}