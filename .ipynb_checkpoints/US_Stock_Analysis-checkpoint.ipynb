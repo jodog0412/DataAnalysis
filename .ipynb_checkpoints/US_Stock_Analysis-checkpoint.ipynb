{
 "cells": [
  {
   "cell_type": "markdown",
   "id": "5d71badf",
   "metadata": {},
   "source": [
    "# US Stock Analysis\n",
    "- 포트폴리오 시각화\n",
    "- 포트폴리오 수익률 분석\n",
    "- 종목 검색\n",
    "- 재무제표 비교\n",
    "- 재무제표 시각화"
   ]
  },
  {
   "cell_type": "markdown",
   "id": "e6c4ba99",
   "metadata": {},
   "source": [
    "## IMPORT FUNCTION"
   ]
  },
  {
   "cell_type": "code",
   "execution_count": 4,
   "id": "4337ffbd",
   "metadata": {},
   "outputs": [],
   "source": [
    "import numpy as np\n",
    "import pandas as pd\n",
    "import yfinance as yf\n",
    "import FinanceDataReader as fdr\n",
    "import matplotlib.pyplot as plt\n",
    "import seaborn as sns\n",
    "yf.pdr_override()"
   ]
  },
  {
   "cell_type": "markdown",
   "id": "462d22f2",
   "metadata": {},
   "source": [
    "## DATAFRAME"
   ]
  },
  {
   "cell_type": "code",
   "execution_count": 25,
   "id": "523227d5",
   "metadata": {},
   "outputs": [],
   "source": [
    "# DATA\n",
    "name=['NEE','STEM','GOOG','EQNR','UNH','CLFD','LPLA','SCHD','XYLD']\n",
    "stocknum=[0.504387,\n",
    "          2,\n",
    "          0.316421,\n",
    "          0.44367,\n",
    "          0.077527,\n",
    "          0.163631,\n",
    "          0.081727,\n",
    "          0.731697,\n",
    "          1.026413]\n",
    "price=[76.58,\n",
    "       14.98,\n",
    "       119.84,\n",
    "       41.62,\n",
    "       533.03,\n",
    "       115.87,\n",
    "       231.99,\n",
    "       77.44,\n",
    "       43.15]\n",
    "date='2022-08-26'"
   ]
  },
  {
   "cell_type": "code",
   "execution_count": 26,
   "id": "b656305c",
   "metadata": {},
   "outputs": [
    {
     "data": {
      "text/html": [
       "<div>\n",
       "<style scoped>\n",
       "    .dataframe tbody tr th:only-of-type {\n",
       "        vertical-align: middle;\n",
       "    }\n",
       "\n",
       "    .dataframe tbody tr th {\n",
       "        vertical-align: top;\n",
       "    }\n",
       "\n",
       "    .dataframe thead th {\n",
       "        text-align: right;\n",
       "    }\n",
       "</style>\n",
       "<table border=\"1\" class=\"dataframe\">\n",
       "  <thead>\n",
       "    <tr style=\"text-align: right;\">\n",
       "      <th></th>\n",
       "      <th>STOCKNUM</th>\n",
       "      <th>PRICE</th>\n",
       "      <th>HOLDQUANTITY</th>\n",
       "    </tr>\n",
       "  </thead>\n",
       "  <tbody>\n",
       "    <tr>\n",
       "      <th>CLFD</th>\n",
       "      <td>0.163631</td>\n",
       "      <td>115.87</td>\n",
       "      <td>18.959924</td>\n",
       "    </tr>\n",
       "    <tr>\n",
       "      <th>EQNR</th>\n",
       "      <td>0.443670</td>\n",
       "      <td>41.62</td>\n",
       "      <td>18.465545</td>\n",
       "    </tr>\n",
       "    <tr>\n",
       "      <th>GOOG</th>\n",
       "      <td>0.316421</td>\n",
       "      <td>119.84</td>\n",
       "      <td>37.919893</td>\n",
       "    </tr>\n",
       "    <tr>\n",
       "      <th>LPLA</th>\n",
       "      <td>0.081727</td>\n",
       "      <td>231.99</td>\n",
       "      <td>18.959847</td>\n",
       "    </tr>\n",
       "    <tr>\n",
       "      <th>NEE</th>\n",
       "      <td>0.504387</td>\n",
       "      <td>76.58</td>\n",
       "      <td>38.625956</td>\n",
       "    </tr>\n",
       "    <tr>\n",
       "      <th>SCHD</th>\n",
       "      <td>0.731697</td>\n",
       "      <td>77.44</td>\n",
       "      <td>56.662616</td>\n",
       "    </tr>\n",
       "    <tr>\n",
       "      <th>STEM</th>\n",
       "      <td>2.000000</td>\n",
       "      <td>14.98</td>\n",
       "      <td>29.960000</td>\n",
       "    </tr>\n",
       "    <tr>\n",
       "      <th>UNH</th>\n",
       "      <td>0.077527</td>\n",
       "      <td>533.03</td>\n",
       "      <td>41.324217</td>\n",
       "    </tr>\n",
       "    <tr>\n",
       "      <th>XYLD</th>\n",
       "      <td>1.026413</td>\n",
       "      <td>43.15</td>\n",
       "      <td>44.289721</td>\n",
       "    </tr>\n",
       "  </tbody>\n",
       "</table>\n",
       "</div>"
      ],
      "text/plain": [
       "      STOCKNUM   PRICE  HOLDQUANTITY\n",
       "CLFD  0.163631  115.87     18.959924\n",
       "EQNR  0.443670   41.62     18.465545\n",
       "GOOG  0.316421  119.84     37.919893\n",
       "LPLA  0.081727  231.99     18.959847\n",
       "NEE   0.504387   76.58     38.625956\n",
       "SCHD  0.731697   77.44     56.662616\n",
       "STEM  2.000000   14.98     29.960000\n",
       "UNH   0.077527  533.03     41.324217\n",
       "XYLD  1.026413   43.15     44.289721"
      ]
     },
     "execution_count": 26,
     "metadata": {},
     "output_type": "execute_result"
    }
   ],
   "source": [
    "def portfolio_dataframe(name,stocknum,price):\n",
    "    stocknum=np.reshape(stocknum,(len(stocknum),1))\n",
    "    price=np.reshape(price,(len(price),1))\n",
    "    datas=np.hstack([stocknum,price])\n",
    "    pf=pd.DataFrame(data=datas,index=name,columns=['STOCKNUM','PRICE'])\n",
    "    pf[\"HOLDQUANTITY\"]=pf[\"STOCKNUM\"]*pf[\"PRICE\"]\n",
    "    pf=pf.sort_index()\n",
    "    return(pf)\n",
    "portfolio_dataframe(name,stocknum,price)"
   ]
  },
  {
   "cell_type": "markdown",
   "id": "7ca979d5",
   "metadata": {},
   "source": [
    "## DATA VISUALIZATION"
   ]
  },
  {
   "cell_type": "code",
   "execution_count": 27,
   "id": "f0f73229",
   "metadata": {},
   "outputs": [
    {
     "data": {
      "image/png": "[encoded data removed]",
      "text/plain": [
       "<Figure size 432x288 with 1 Axes>"
      ]
     },
     "metadata": {},
     "output_type": "display_data"
    }
   ],
   "source": [
    "def portfolio_plt(pf):\n",
    "    pf=pf.sort_values(\"HOLDQUANTITY\",ascending=False)\n",
    "    pf_plot=plt.pie(pf[\"HOLDQUANTITY\"],labels=pf.index,autopct='%.1f%%',startangle=90)    \n",
    "    return(plt.show(pf_plot))\n",
    "portfolio_plt(pf)"
   ]
  },
  {
   "cell_type": "code",
   "execution_count": 28,
   "id": "c71d8db8",
   "metadata": {
    "scrolled": true
   },
   "outputs": [
    {
     "data": {
      "text/plain": [
       "NEE     16.727604\n",
       "CLFD     9.225854\n",
       "STEM     1.735646\n",
       "UNH      1.602163\n",
       "EQNR     0.432483\n",
       "XYLD     0.185399\n",
       "SCHD    -1.188021\n",
       "LPLA    -1.491444\n",
       "GOOG    -1.785717\n",
       "dtype: float64"
      ]
     },
     "execution_count": 28,
     "metadata": {},
     "output_type": "execute_result"
    }
   ],
   "source": [
    "def holds_dataframing(company,date): #수익률 데이터화\n",
    "    data_yf=yf.download(name,start='2022-01-01',end=date,progress=False)\n",
    "    data=data_yf['Adj Close'].iloc[-1]\n",
    "    data=(data/pf['PRICE']-1)*100\n",
    "    df=data.sort_values(ascending=False)\n",
    "    return(df)\n",
    "\n",
    "holds_dataframing(name,date) #회사 리스트,날짜"
   ]
  },
  {
   "cell_type": "markdown",
   "id": "1e8b9c29",
   "metadata": {},
   "source": [
    "## TICKER SEARCH"
   ]
  },
  {
   "cell_type": "code",
   "execution_count": 72,
   "id": "387f7e62",
   "metadata": {},
   "outputs": [
    {
     "name": "stderr",
     "output_type": "stream",
     "text": [
      "100%|█████████████████████████████████████████████████████████████████████████████| 4629/4629 [00:12<00:00, 360.12it/s]\n"
     ]
    },
    {
     "name": "stdout",
     "output_type": "stream",
     "text": [
      "\n",
      "2 Failed downloads:\n",
      "- MAXNV: No data found, symbol may be delisted\n",
      "- SPWRV: No data found, symbol may be delisted\n"
     ]
    },
    {
     "data": {
      "text/plain": [
       "ENPH     104.569992\n",
       "FSLR      53.560005\n",
       "SEDG      27.059998\n",
       "CSIQ      13.630001\n",
       "PLUG      13.430000\n",
       "GPRE      11.640001\n",
       "RUN       11.549999\n",
       "ARRY      11.190001\n",
       "SPWR       9.860000\n",
       "SHLS       9.230000\n",
       "TPIC       7.370001\n",
       "MAXN       7.349999\n",
       "AMTX       5.000000\n",
       "ASTI       2.250000\n",
       "BLDP       2.120000\n",
       "SUNW       2.050000\n",
       "BWEN       1.760000\n",
       "HTOO       1.730000\n",
       "IPWR       1.235001\n",
       "ALTO       1.130000\n",
       "GEVO       0.910000\n",
       "FCEL       0.800000\n",
       "BNRG       0.490000\n",
       "SPI        0.410000\n",
       "ADN        0.370000\n",
       "CREG       0.280000\n",
       "IMPP      -0.026000\n",
       "BEEM      -0.590000\n",
       "IMPPP     -0.612000\n",
       "MAXNV           NaN\n",
       "SPWRV           NaN\n",
       "dtype: float64"
      ]
     },
     "execution_count": 72,
     "metadata": {},
     "output_type": "execute_result"
    }
   ],
   "source": [
    "# ['가정용품', '개인, 가정 용품 및 서비스', '건설 및 엔지니어링', '건설장비 및 대형차, 기차, 배',\n",
    "# '건축 자재', '교육서비스', '기타 금융업', '다양한 금융서비스', '다양한 산업재 도매업', '다양한 소매업',\n",
    "# '레저 상품', '메탈&마이닝', '미디어 및 출판', '반도체 및 반도체 장비', '보험', '복합 기업', '복합 유틸리티', '부동산 운영 관리',\n",
    "# '비즈니스교육', '사무기기', '생명과학 및 메디컬 리서치', '석유', '섬유 및 의류', '소프트웨어 및 IT서비스', '수도 유틸리티',\n",
    "# '식품 및 담배', '식품 및 약품소매', '오일 및 가스', '오일 및 가스 장비 및 서비스', '용기 및 포장', '우라늄', '우주항공 및 국방',\n",
    "# '운송 인프라', '운송업', '은행', '음료', '자동차 및 자동차 부품', '재생에너지', '전기 유틸리티', '전문 및 상업 서비스', '전문품 상점',\n",
    "# '전자 장비 및 부품', '제약', '종이 및 임산물', '주택 및 상업용 리츠', '주택건설', '천연가스 유틸리티', '커뮤니케이션 및 네트워킹',\n",
    "# '컴퓨터, 전화 및 가전제품', '통신 서비스', '통합 하드웨어 및 소프트웨어', '투자은행 및 서비스', '핀테크', '학교',\n",
    "# '헬스케어 업체 및 서비스', '헬스케어 장비 및 용품', '호텔 및 엔터테인먼트', '화물 및 물류 서비스', '화학']\n",
    "\n",
    "date_start='2022-07-01'\n",
    "def ticker_search(index,sector):\n",
    "    global tf\n",
    "    data_fdr = fdr.StockListing(index)\n",
    "    data_fdr = dict(list(data_fdr.groupby('Industry')))\n",
    "    tickers=list(data_fdr[sector]['Symbol'].values)\n",
    "    downloadf=yf.download(tickers,start=date_start,end=date,progress=False)\n",
    "    downloadf=downloadf['Adj Close'].iloc[-1]-downloadf['Adj Close'].iloc[0]\n",
    "    tf=pd.Series(downloadf)\n",
    "    tf=tf.sort_values(ascending=False)\n",
    "    tf.to_excel(excel_writer=\"./data/%s_PROFIT_%s.xlsx\"%(index,sector))\n",
    "    return(tf)\n",
    "ticker_search('NASDAQ','재생에너지')\n",
    "# tf[:15]"
   ]
  },
  {
   "cell_type": "markdown",
   "id": "f9f83418",
   "metadata": {},
   "source": [
    "## FINANCIALS COMPARISON"
   ]
  },
  {
   "cell_type": "code",
   "execution_count": 73,
   "id": "42f43818",
   "metadata": {},
   "outputs": [
    {
     "data": {
      "text/html": [
       "<div>\n",
       "<style scoped>\n",
       "    .dataframe tbody tr th:only-of-type {\n",
       "        vertical-align: middle;\n",
       "    }\n",
       "\n",
       "    .dataframe tbody tr th {\n",
       "        vertical-align: top;\n",
       "    }\n",
       "\n",
       "    .dataframe thead th {\n",
       "        text-align: right;\n",
       "    }\n",
       "</style>\n",
       "<table border=\"1\" class=\"dataframe\">\n",
       "  <thead>\n",
       "    <tr style=\"text-align: right;\">\n",
       "      <th></th>\n",
       "      <th>PER</th>\n",
       "      <th>FPER</th>\n",
       "      <th>PBR</th>\n",
       "      <th>PEGR</th>\n",
       "      <th>ROE</th>\n",
       "      <th>short%</th>\n",
       "      <th>qRatio</th>\n",
       "    </tr>\n",
       "  </thead>\n",
       "  <tbody>\n",
       "    <tr>\n",
       "      <th>ARRY</th>\n",
       "      <td>NaN</td>\n",
       "      <td>23.870968</td>\n",
       "      <td>50.340137</td>\n",
       "      <td>-13.26</td>\n",
       "      <td>-0.50944</td>\n",
       "      <td>0.1325</td>\n",
       "      <td>1.019</td>\n",
       "    </tr>\n",
       "    <tr>\n",
       "      <th>GPRE</th>\n",
       "      <td>NaN</td>\n",
       "      <td>20.426317</td>\n",
       "      <td>2.244001</td>\n",
       "      <td>14.45</td>\n",
       "      <td>-0.05888</td>\n",
       "      <td>0.1798</td>\n",
       "      <td>1.069</td>\n",
       "    </tr>\n",
       "    <tr>\n",
       "      <th>CSIQ</th>\n",
       "      <td>21.117926</td>\n",
       "      <td>11.750656</td>\n",
       "      <td>1.608291</td>\n",
       "      <td>1.61</td>\n",
       "      <td>0.08599</td>\n",
       "      <td>0.0770</td>\n",
       "      <td>0.453</td>\n",
       "    </tr>\n",
       "    <tr>\n",
       "      <th>RUN</th>\n",
       "      <td>NaN</td>\n",
       "      <td>-62.339287</td>\n",
       "      <td>1.165804</td>\n",
       "      <td>NaN</td>\n",
       "      <td>-0.12140</td>\n",
       "      <td>0.1850</td>\n",
       "      <td>0.746</td>\n",
       "    </tr>\n",
       "    <tr>\n",
       "      <th>PLUG</th>\n",
       "      <td>NaN</td>\n",
       "      <td>-88.235290</td>\n",
       "      <td>4.000000</td>\n",
       "      <td>NaN</td>\n",
       "      <td>-0.13727</td>\n",
       "      <td>0.1227</td>\n",
       "      <td>7.504</td>\n",
       "    </tr>\n",
       "  </tbody>\n",
       "</table>\n",
       "</div>"
      ],
      "text/plain": [
       "            PER       FPER        PBR   PEGR      ROE  short%  qRatio\n",
       "ARRY        NaN  23.870968  50.340137 -13.26 -0.50944  0.1325   1.019\n",
       "GPRE        NaN  20.426317   2.244001  14.45 -0.05888  0.1798   1.069\n",
       "CSIQ  21.117926  11.750656   1.608291   1.61  0.08599  0.0770   0.453\n",
       "RUN         NaN -62.339287   1.165804    NaN -0.12140  0.1850   0.746\n",
       "PLUG        NaN -88.235290   4.000000    NaN -0.13727  0.1227   7.504"
      ]
     },
     "execution_count": 73,
     "metadata": {},
     "output_type": "execute_result"
    }
   ],
   "source": [
    "holding=['NEE','STEM','GOOG','EQNR','UNH','CLFD','LPLA']\n",
    "view=['CSIQ','PLUG','GPRE','RUN','ARRY']\n",
    "finan=[]\n",
    "\n",
    "def financial_shape(ticker):\n",
    "    ticker_yf=yf.Ticker(ticker)\n",
    "    info=ticker_yf.info\n",
    "    if \"trailingPE\" in info:\n",
    "        finan.append([info[\"trailingPE\"],\n",
    "                      info[\"forwardPE\"],\n",
    "                      info[\"priceToBook\"],\n",
    "                      info[\"pegRatio\"],\n",
    "                      info[\"returnOnEquity\"],\n",
    "                      info[\"shortPercentOfFloat\"],\n",
    "                      info[\"quickRatio\"]])\n",
    "    else:\n",
    "        finan.append([\"NaN\",\n",
    "                      info[\"forwardPE\"],\n",
    "                      info[\"priceToBook\"],\n",
    "                      info[\"pegRatio\"],\n",
    "                      info[\"returnOnEquity\"],\n",
    "                      info[\"shortPercentOfFloat\"],\n",
    "                      info[\"quickRatio\"]])\n",
    "\n",
    "def financial_comparison(tickerlist):\n",
    "    for i in tickerlist: \n",
    "        financial_shape(i)\n",
    "    df=pd.DataFrame(data=finan,\n",
    "                    index=tickerlist,\n",
    "                    columns=['PER',\n",
    "                             'FPER',\n",
    "                             'PBR',\n",
    "                             'PEGR',\n",
    "                             'ROE',\n",
    "                             'short%',\n",
    "                             'qRatio'])\n",
    "    df=df.sort_values('FPER',ascending=False)\n",
    "    return df\n",
    "\n",
    "financial_comparison(view)\n"
   ]
  },
  {
   "cell_type": "markdown",
   "id": "0e70f34f",
   "metadata": {},
   "source": [
    "## FINANCIALS VISUALIZATION"
   ]
  },
  {
   "cell_type": "code",
   "execution_count": 68,
   "id": "ccdca3af",
   "metadata": {},
   "outputs": [
    {
     "data": {
      "image/png": "[encoded data removed]",
      "text/plain": [
       "<Figure size 432x288 with 2 Axes>"
      ]
     },
     "metadata": {
      "needs_background": "light"
     },
     "output_type": "display_data"
    }
   ],
   "source": [
    "def plt_earning(tickerlist):\n",
    "    fig, axs = plt.subplots(len(tickerlist))\n",
    "    for i in range(0,len(tickerlist)):\n",
    "        #get datas for balance sheet\n",
    "        ticker_yf=yf.Ticker(tickerlist[i])\n",
    "        earning=ticker_yf.earnings\n",
    "        #plotting\n",
    "        sns.lineplot(data=earning,ax=axs[i],legend=False)\n",
    "        if i==0:\n",
    "            axs[i].legend([\"Revenue\",\"Earnings\"],\n",
    "                          loc=2,\n",
    "                          prop={'size': 6})\n",
    "        axs[i].set_title(tickerlist[i])\n",
    "    plt.show()\n",
    "\n",
    "def plt_balance(tickerlist):\n",
    "    fig, axs = plt.subplots(len(tickerlist))\n",
    "    for i in range(0,len(tickerlist)):\n",
    "        #get datas for balance sheet\n",
    "        ticker_yf=yf.Ticker(tickerlist[i])\n",
    "        balance=ticker_yf.balance_sheet.loc[[\"Total Assets\",\"Total Liab\",\"Total Stockholder Equity\",\"Cash\"]]\n",
    "        balance=balance.transpose().sort_index()\n",
    "        #plotting\n",
    "        sns.lineplot(data=balance,ax=axs[i],legend=False)\n",
    "        if i==0:\n",
    "            axs[i].legend([\"Total Assets\",\"Total Liab\",\"Total Stockholder Equity\",\"Cash\"],\n",
    "                          loc=2,\n",
    "                          prop={'size': 6})\n",
    "        axs[i].set_title(tickerlist[i])\n",
    "    plt.show()\n",
    "\n",
    "def plt_cashflow(tickerlist):\n",
    "    fig, axs = plt.subplots(len(tickerlist))\n",
    "    for i in range(0,len(tickerlist)):\n",
    "        #get datas for balance sheet\n",
    "        ticker_yf=yf.Ticker(tickerlist[i])\n",
    "        cashflow=ticker_yf.cashflow.loc[[\"Total Cash From Operating Activities\",\n",
    "                                         \"Total Cashflows From Investing Activities\",\n",
    "                                         \"Total Cash From Financing Activities\"]]\n",
    "        cashflow=cashflow.transpose().sort_index()\n",
    "        sns.lineplot(data=cashflow,ax=axs[i],legend=False)\n",
    "        if i==0:\n",
    "            axs[i].legend([\"Total Cash From Operating Activities\",\n",
    "                           \"Total Cashflows From Investing Activities\",\n",
    "                           \"Total Cash From Financing Activities\"],\n",
    "                          loc=2,\n",
    "                          prop={'size': 6})\n",
    "        axs[i].set_title(tickerlist[i])\n",
    "    plt.show()\n",
    "\n",
    "plt_earning(view)\n",
    "# plt_balance(view)\n",
    "# plt_cashflow(view)"
   ]
  },
  {
   "cell_type": "code",
   "execution_count": null,
   "id": "677f1629",
   "metadata": {},
   "outputs": [],
   "source": []
  }
 ],
 "metadata": {
  "kernelspec": {
   "display_name": "Python 3 (ipykernel)",
   "language": "python",
   "name": "python3"
  },
  "language_info": {
   "codemirror_mode": {
    "name": "ipython",
    "version": 3
   },
   "file_extension": ".py",
   "mimetype": "text/x-python",
   "name": "python",
   "nbconvert_exporter": "python",
   "pygments_lexer": "ipython3",
   "version": "3.9.7"
  }
 },
 "nbformat": 4,
 "nbformat_minor": 5
}
